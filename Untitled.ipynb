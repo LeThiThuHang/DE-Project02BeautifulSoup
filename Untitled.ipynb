{
 "cells": [
  {
   "cell_type": "code",
   "execution_count": 1,
   "id": "8ca96189",
   "metadata": {},
   "outputs": [],
   "source": [
    "import scrapy"
   ]
  },
  {
   "cell_type": "code",
   "execution_count": null,
   "id": "8d27cc24",
   "metadata": {},
   "outputs": [],
   "source": [
    "class NewEggSpirder(scrapy.Spider):\n",
    "    name = 'quote'\n",
    "    start_urls = ['https://www.newegg.com/GPUs-Video-Graphics-Cards/SubCategory/ID-48?Tid=7709']\n",
    "    \n",
    "    def parse(self,response):\n",
    "        for quote in response.css('div.item-info'):\n",
    "            yield {\n",
    "                name: quote.css('a.item-title::text').get()\n",
    "                \n",
    "            }\n",
    "\n",
    "\n"
   ]
  }
 ],
 "metadata": {
  "kernelspec": {
   "display_name": "Python 3 (ipykernel)",
   "language": "python",
   "name": "python3"
  },
  "language_info": {
   "codemirror_mode": {
    "name": "ipython",
    "version": 3
   },
   "file_extension": ".py",
   "mimetype": "text/x-python",
   "name": "python",
   "nbconvert_exporter": "python",
   "pygments_lexer": "ipython3",
   "version": "3.10.9"
  }
 },
 "nbformat": 4,
 "nbformat_minor": 5
}
