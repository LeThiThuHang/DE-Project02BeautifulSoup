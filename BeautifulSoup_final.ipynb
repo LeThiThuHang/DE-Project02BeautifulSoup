{
 "cells": [
  {
   "cell_type": "markdown",
   "id": "334a2871",
   "metadata": {},
   "source": [
    "# Flow of the file: \n",
    "-- Scrape data from website\n",
    "-- Read the dictionary to the CSV file\n",
    "-- Read data from csv file using Pandas library \n",
    "-- Exploratory analysis: metadata and detecting anomalies ( too many empty variables, duplicates, ...)\n",
    "-- Transform and clean data \n",
    "-- Visualize data"
   ]
  },
  {
   "cell_type": "code",
   "execution_count": 1,
   "id": "1b8e67e6",
   "metadata": {},
   "outputs": [],
   "source": [
    "from bs4 import BeautifulSoup\n",
    "import requests\n",
    "import csv\n",
    "import json"
   ]
  },
  {
   "cell_type": "code",
   "execution_count": null,
   "id": "95d08d69",
   "metadata": {},
   "outputs": [],
   "source": []
  },
  {
   "cell_type": "markdown",
   "id": "0afd9e40",
   "metadata": {},
   "source": [
    "## Scraping data from website"
   ]
  },
  {
   "cell_type": "code",
   "execution_count": 2,
   "id": "0419c30f",
   "metadata": {},
   "outputs": [],
   "source": [
    "#set the url and retrieve the content \n",
    "url_1 = 'https://www.newegg.com/GPUs-Video-Graphics-Cards/SubCategory/ID-48'\n",
    "\n",
    "#set up the list of the url to read till page 100\n",
    "url_list = []\n",
    "for i in range(2,101):\n",
    "    url = url_1 +'/Page-'+ str(i)\n",
    "    url_list.append(url)\n"
   ]
  },
  {
   "cell_type": "code",
   "execution_count": 7,
   "id": "42927096",
   "metadata": {},
   "outputs": [],
   "source": [
    "#this function create the data holder for content from web\n",
    "# -- read data from url\n",
    "# -- create the data dictionary with the key\n",
    "# -- crawl neccessary data from the webpage and add value to the data dictionary corresponding to each key\n",
    "# -- if empty data, fill as empty string\n",
    "\n",
    "def read_data(url):\n",
    "    data = {}\n",
    "    keys = ['ID','Name','Brand','Rating','Number of rating', 'Price', 'Shiping','Image','Product Information']\n",
    "    for key in keys:\n",
    "        data[key] = []\n",
    "    \n",
    "    response = requests.get(url)\n",
    "    \n",
    "    #check status code of the response\n",
    "    if response.status_code == 200:\n",
    "        \n",
    "        #create a beaufiulsoup object to parse HTML content \n",
    "        soup = BeautifulSoup(response.content,'html.parser')\n",
    "        product_list = soup.find_all('div', class_= 'item-cell')\n",
    "\n",
    "        for product in product_list: \n",
    "\n",
    "            #iterate over each product and find class 'item-container'\n",
    "            item_container = product.find(class_='item-container')\n",
    "            #get the id of the item_container\n",
    "            item_id = item_container.get('id')\n",
    "            #check if dictionary already have value, then append new value. If the dictionary doesn't have value yet, start the new value\n",
    "            if data['ID'] is not None:\n",
    "                data['ID'].append(item_id)\n",
    "            else:\n",
    "                data['ID'] = [item_id]\n",
    "\n",
    "            #get name\n",
    "            name_class = product.find('a',class_='item-title')\n",
    "            name = name_class.text\n",
    "\n",
    "            if data['Name'] is not None:\n",
    "                data['Name'].append(name)\n",
    "            else:\n",
    "                data['Name'] = [name]\n",
    "\n",
    "            #get brand\n",
    "            brand_class = product.find('a', class_='item-brand')\n",
    "            #some products doesn't have brand container so check if the brand containder exist or not\n",
    "            if brand_class is None:\n",
    "                 #check if dictionary already have value, then append new value. If the dictionary doesn't have value yet, start the new value\n",
    "                if data['Brand'] is not None:\n",
    "                    data['Brand'].append('')\n",
    "                else:\n",
    "                    data['Brand'] =  ['']\n",
    "            else:\n",
    "                brand = brand_class.find('img').get('title')\n",
    "                if data['Brand'] is not None:\n",
    "                    data['Brand'].append(brand)\n",
    "                else:\n",
    "                    data['Brand'] =  [brand]\n",
    "\n",
    "            #get rating\n",
    "            rating_class = product.find('a', class_='item-rating')\n",
    "            #some products doesn't have RATING so check if the brand containder exist or not\n",
    "            if rating_class is not None:\n",
    "                rating = rating_class.get('title')\n",
    "                #check if dictionary already have value, then append new value. If the dictionary doesn't have value yet, start the new value\n",
    "                if data['Rating'] is not None:\n",
    "                    data['Rating'].append(rating)\n",
    "                else:\n",
    "                    data['Rating'] = [rating]\n",
    "\n",
    "            else:\n",
    "                if data['Rating'] is not None:\n",
    "                    data['Rating'].append('')\n",
    "                else:\n",
    "                    data['Rating'] = ['']\n",
    "\n",
    "\n",
    "            #get number of rating\n",
    "            number_rating = product.find('a', class_='item-rating')\n",
    "            #some products doesn't have number_rating so check if the brand container exist or not\n",
    "            if number_rating is not None: \n",
    "                item_rating = number_rating.text[1:-1]\n",
    "                #check if dictionary already have value, then append new value. If the dictionary doesn't have value yet, start the new value\n",
    "                if data['Number of rating'] is not None:\n",
    "                    data['Number of rating'].append(item_rating)\n",
    "                else:\n",
    "                    data['Number of rating'] = ['']\n",
    "            else:\n",
    "                if data['Number of rating'] is not None:\n",
    "                    data['Number of rating'].append('')\n",
    "                else:\n",
    "                    data['Number of rating'] = ['']\n",
    "\n",
    "            #find price \n",
    "                #read the integer part\n",
    "            if product.select_one('.price-current strong') is not None:\n",
    "                current_price_rating = product.select_one('.price-current strong').text.replace(',','')\n",
    "            else:\n",
    "                current_price_rating = ''\n",
    "                #read the decimal\n",
    "            if product.select_one('.price-current sup') is not None:\n",
    "                current_price_decimal_rating = product.select_one('.price-current sup').text.replace('.','')\n",
    "            else:\n",
    "                current_price_decimal_rating = ''\n",
    "            \n",
    "                #combine the integer and decimal \n",
    "            if current_price_rating != '':\n",
    "                price = int(current_price_decimal_rating)/100+ int(current_price_rating)\n",
    "            else: \n",
    "                price = ''\n",
    "                #append the price\n",
    "            if data['Price'] is not None:\n",
    "                data['Price'].append(price)\n",
    "            else:\n",
    "                data['Price'] = [''] \n",
    "\n",
    "            #find shipping\n",
    "            shipping = product.find(class_='price-ship')\n",
    "            shipping_type = shipping.text\n",
    "            #check if dictionary already have value, then append new value. If the dictionary doesn't have value yet, start the new value\n",
    "            if data['Shiping'] is not None:\n",
    "                data['Shiping'].append(shipping_type)\n",
    "            else:\n",
    "                data['Shiping'] = [''] \n",
    "\n",
    "            #find image url \n",
    "            image_url = product.find(class_='item-img')\n",
    "            image = image_url.get('href')\n",
    "            #check if dictionary already have value, then append new value. If the dictionary doesn't have value yet, start the new value\n",
    "            if data['Image'] is not None:\n",
    "                data['Image'].append(image)\n",
    "            else:\n",
    "                data['Image'] = ['']\n",
    "\n",
    "            #product information\n",
    "            product_infor = product.find(class_='item-features')\n",
    "            product_dict = []\n",
    "            for feature in product_infor.find_all('li'):\n",
    "                feature = feature.get_text(strip=True).split(\":\")\n",
    "                feature_name = feature[0]\n",
    "                feature_value=feature[1]\n",
    "                feature_dict = {feature_name:feature_value}\n",
    "                product_dict.append(feature_dict)\n",
    "            #check if dictionary already have value, then append new value. If the dictionary doesn't have value yet, start the new value\n",
    "            if data['Product Information'] is not None: \n",
    "                data['Product Information'].append(product_dict)\n",
    "            else:\n",
    "                data['Product Information'] = [product_dict]\n",
    "\n",
    "        return data\n",
    "    \n",
    "    else:\n",
    "        print('Fail to retrieve the webpage: ', response.status_code)"
   ]
  },
  {
   "cell_type": "code",
   "execution_count": 8,
   "id": "a174c763",
   "metadata": {},
   "outputs": [
    {
     "name": "stdout",
     "output_type": "stream",
     "text": [
      "99\n"
     ]
    }
   ],
   "source": [
    "#READ THE DATA into the combined_data\n",
    "table = []\n",
    "\n",
    "#read each link into a dictionary, append dictionary to the table list\n",
    "#table = [{data1 from url1}, {data2 from url2},...]\n",
    "\n",
    "for link in url_list:\n",
    "    #read_data() return a dictionary with the format {'name of coumn': [val1, val2, ...]}\n",
    "    data = read_data(link)\n",
    "    table.append(data)\n",
    "\n",
    "print(len(table))\n",
    "\n",
    "combined_data = {}\n",
    "\n",
    "for dictionary in table:\n",
    "    for key, value in dictionary.items():\n",
    "        #if the key is not found yet in the combined_data, it will take the first value \n",
    "        #if they key already exists, it will add into the value\n",
    "        if key in combined_data:\n",
    "            combined_data[key].extend(value)\n",
    "        else:\n",
    "            combined_data[key] = value"
   ]
  },
  {
   "cell_type": "code",
   "execution_count": 10,
   "id": "3d70bb4b",
   "metadata": {},
   "outputs": [
    {
     "name": "stdout",
     "output_type": "stream",
     "text": [
      "[{'Core Clock': '1855 MHz'}, {'Max Resolution': '7680 x 4320'}, {'DisplayPort': '2 x DisplayPort 2.1'}, {'HDMI': '2 x HDMI 2.1'}, {'Model #': '11322-02-20G'}, {'Item #': 'N82E16814202429'}, {'Return Policy': 'Standard Return Policy'}]\n"
     ]
    }
   ],
   "source": [
    "print(combined_data['Product Information'][0])"
   ]
  },
  {
   "cell_type": "code",
   "execution_count": 11,
   "id": "7a9c0bbf",
   "metadata": {
    "scrolled": true
   },
   "outputs": [
    {
     "name": "stdout",
     "output_type": "stream",
     "text": [
      "Key: ID, Value Type: list has 3563 values\n",
      "Key: Name, Value Type: list has 3563 values\n",
      "Key: Brand, Value Type: list has 3563 values\n",
      "Key: Rating, Value Type: list has 3563 values\n",
      "Key: Number of rating, Value Type: list has 3563 values\n",
      "Key: Price, Value Type: list has 3563 values\n",
      "Key: Shiping, Value Type: list has 3563 values\n",
      "Key: Image, Value Type: list has 3563 values\n",
      "Key: Product Information, Value Type: list has 3563 values\n",
      "length of the dictionary is:  9\n"
     ]
    }
   ],
   "source": [
    "for key, value in combined_data.items():\n",
    "    value_type = type(value).__name__\n",
    "    print(f\"Key: {key}, Value Type: {value_type} has {len(value)} values\")\n",
    "print('length of the dictionary is: ', len(combined_data))"
   ]
  },
  {
   "cell_type": "code",
   "execution_count": 12,
   "id": "b6844975",
   "metadata": {},
   "outputs": [
    {
     "name": "stdout",
     "output_type": "stream",
     "text": [
      "9SIAYTVESH8534\n",
      "GIGABYTE AORUS Radeon RX 6900 XT 16GB GDDR6 PCI Express 4.0 ATX Video Card GV-R69XTAORUS M-16GD\n",
      "Rating + 4.8\n",
      "4\n"
     ]
    }
   ],
   "source": [
    "#checking data \n",
    "position = combined_data['ID'].index('9SIAZUEGA94185')\n",
    "value_at_position_319=combined_data['ID'][319]\n",
    "name_319 = combined_data['Name'][319]\n",
    "rating_319 = combined_data['Rating'][319]\n",
    "numberrating_319 = combined_data['Number of rating'][319]\n",
    "print(value_at_position_319)\n",
    "print(name_319)\n",
    "print(rating_319)\n",
    "print(numberrating_319)"
   ]
  },
  {
   "cell_type": "markdown",
   "id": "a223168a",
   "metadata": {},
   "source": [
    "## Read the dictionary to the CSV file"
   ]
  },
  {
   "cell_type": "code",
   "execution_count": 13,
   "id": "0854db8f",
   "metadata": {},
   "outputs": [
    {
     "name": "stdout",
     "output_type": "stream",
     "text": [
      "CSV file has been created\n"
     ]
    }
   ],
   "source": [
    "#open a csv in write mode and create a csv.writer ojbect\n",
    "with open('newegg_products.csv', 'w',newline='', encoding='utf-8') as csvfile:\n",
    "    writer = csv.writer(csvfile)\n",
    "    \n",
    "    #write the header row with the keys\n",
    "    writer.writerow(combined_data.keys())\n",
    "    \n",
    "    #write the values row by row\n",
    "    rows = zip(*combined_data.values())\n",
    "    writer.writerows(rows)\n",
    "           \n",
    "    print(\"CSV file has been created\")\n",
    "    "
   ]
  },
  {
   "cell_type": "markdown",
   "id": "150e3b57",
   "metadata": {},
   "source": [
    "## Read data from csv file using Pandas library "
   ]
  },
  {
   "cell_type": "code",
   "execution_count": 24,
   "id": "776f2171",
   "metadata": {},
   "outputs": [],
   "source": [
    "import pandas as pd"
   ]
  },
  {
   "cell_type": "code",
   "execution_count": 25,
   "id": "7ed3a593",
   "metadata": {},
   "outputs": [],
   "source": [
    "file = 'newegg_products.csv'\n",
    "data_df = pd.read_csv(file)"
   ]
  },
  {
   "cell_type": "code",
   "execution_count": 26,
   "id": "cb82a2a7",
   "metadata": {},
   "outputs": [
    {
     "data": {
      "text/html": [
       "<div>\n",
       "<style scoped>\n",
       "    .dataframe tbody tr th:only-of-type {\n",
       "        vertical-align: middle;\n",
       "    }\n",
       "\n",
       "    .dataframe tbody tr th {\n",
       "        vertical-align: top;\n",
       "    }\n",
       "\n",
       "    .dataframe thead th {\n",
       "        text-align: right;\n",
       "    }\n",
       "</style>\n",
       "<table border=\"1\" class=\"dataframe\">\n",
       "  <thead>\n",
       "    <tr style=\"text-align: right;\">\n",
       "      <th></th>\n",
       "      <th>Number of rating</th>\n",
       "      <th>Price</th>\n",
       "    </tr>\n",
       "  </thead>\n",
       "  <tbody>\n",
       "    <tr>\n",
       "      <th>count</th>\n",
       "      <td>1873.000000</td>\n",
       "      <td>3551.000000</td>\n",
       "    </tr>\n",
       "    <tr>\n",
       "      <th>mean</th>\n",
       "      <td>46.343833</td>\n",
       "      <td>582.624652</td>\n",
       "    </tr>\n",
       "    <tr>\n",
       "      <th>std</th>\n",
       "      <td>77.679990</td>\n",
       "      <td>466.709190</td>\n",
       "    </tr>\n",
       "    <tr>\n",
       "      <th>min</th>\n",
       "      <td>1.000000</td>\n",
       "      <td>5.000000</td>\n",
       "    </tr>\n",
       "    <tr>\n",
       "      <th>25%</th>\n",
       "      <td>5.000000</td>\n",
       "      <td>271.620000</td>\n",
       "    </tr>\n",
       "    <tr>\n",
       "      <th>50%</th>\n",
       "      <td>19.000000</td>\n",
       "      <td>465.000000</td>\n",
       "    </tr>\n",
       "    <tr>\n",
       "      <th>75%</th>\n",
       "      <td>57.000000</td>\n",
       "      <td>745.000000</td>\n",
       "    </tr>\n",
       "    <tr>\n",
       "      <th>max</th>\n",
       "      <td>985.000000</td>\n",
       "      <td>5239.750000</td>\n",
       "    </tr>\n",
       "  </tbody>\n",
       "</table>\n",
       "</div>"
      ],
      "text/plain": [
       "       Number of rating        Price\n",
       "count       1873.000000  3551.000000\n",
       "mean          46.343833   582.624652\n",
       "std           77.679990   466.709190\n",
       "min            1.000000     5.000000\n",
       "25%            5.000000   271.620000\n",
       "50%           19.000000   465.000000\n",
       "75%           57.000000   745.000000\n",
       "max          985.000000  5239.750000"
      ]
     },
     "execution_count": 26,
     "metadata": {},
     "output_type": "execute_result"
    }
   ],
   "source": [
    "data_df.describe()"
   ]
  },
  {
   "cell_type": "markdown",
   "id": "50d228a8",
   "metadata": {},
   "source": [
    "## Exploratory analysis: metadata and detecting anomalies ( too many empty variables, duplicates, ...)"
   ]
  },
  {
   "cell_type": "code",
   "execution_count": 94,
   "id": "7bac5afb",
   "metadata": {},
   "outputs": [],
   "source": [
    "%run CommonFunction.ipynb"
   ]
  },
  {
   "cell_type": "code",
   "execution_count": 42,
   "id": "f5f37cc1",
   "metadata": {},
   "outputs": [
    {
     "name": "stdout",
     "output_type": "stream",
     "text": [
      "The table has 3563 rows\n",
      "The table has 10 cols\n"
     ]
    }
   ],
   "source": [
    "table_shape(data_df)"
   ]
  },
  {
   "cell_type": "code",
   "execution_count": 44,
   "id": "64f6fba7",
   "metadata": {},
   "outputs": [
    {
     "name": "stdout",
     "output_type": "stream",
     "text": [
      "Index(['ID', 'Name', 'Brand', 'Rating', 'Number of rating', 'Price', 'Shiping',\n",
      "       'Image', 'Product Information', 'new_brand'],\n",
      "      dtype='object')\n",
      "ID                      object\n",
      "Name                    object\n",
      "Brand                   object\n",
      "Rating                  object\n",
      "Number of rating       float64\n",
      "Price                  float64\n",
      "Shiping                 object\n",
      "Image                   object\n",
      "Product Information     object\n",
      "new_brand               object\n",
      "dtype: object\n"
     ]
    }
   ],
   "source": [
    "#what are the names and types of each column\n",
    "col(data_df)"
   ]
  },
  {
   "cell_type": "code",
   "execution_count": 57,
   "id": "8f814e0d",
   "metadata": {},
   "outputs": [
    {
     "name": "stdout",
     "output_type": "stream",
     "text": [
      "There is no empty cell in  ID column\n",
      "There is no empty cell in  Name column\n",
      "There are 97 empty cells in the Brand column\n",
      "There are 97 empty cells in the Brand column\n",
      "There are 1690 empty cells in the Rating column\n",
      "There are 1690 empty cells in the Rating column\n",
      "There are 1690 empty cells in the Number of rating column\n",
      "There are 1690 empty cells in the Number of rating column\n",
      "There are 12 empty cells in the Price column\n",
      "There are 12 empty cells in the Price column\n",
      "There is no empty cell in  Shiping column\n",
      "There is no empty cell in  Image column\n",
      "There is no empty cell in  Product Information column\n",
      "There is no empty cell in  new_brand column\n"
     ]
    }
   ],
   "source": [
    "cols = data_df.columns\n",
    "for col in cols: \n",
    "    check_empty(data_df,col)"
   ]
  },
  {
   "cell_type": "code",
   "execution_count": 22,
   "id": "dc12b931",
   "metadata": {
    "collapsed": true
   },
   "outputs": [
    {
     "name": "stdout",
     "output_type": "stream",
     "text": [
      "                  ID                                               Name Brand  \\\n",
      "98        14-993-001  SPARKLE Intel Arc A750 TITAN OC Edition, 8GB G...   NaN   \n",
      "116       14-993-002  SPARKLE Intel Arc A750 ORC OC Edition, 8GB GDD...   NaN   \n",
      "121       14-993-003  SPARKLE Intel Arc A380 ELF, 6GB GDDR6, Single ...   NaN   \n",
      "357   9SIB1PGJNB4195  EVGA GeForce RTX 3090 FTW3 ULTRA GAMING Video ...   NaN   \n",
      "385   9SIB1PGG1Y2678  EVGA GeForce RTX 3090 XC3 ULTRA GAMING Video C...   NaN   \n",
      "...              ...                                                ...   ...   \n",
      "3483  9SIAT8UEUY8884  ONDA R5 220 Model 2GD3 AMD 550Mhz 80 SDDR3 2GB...   NaN   \n",
      "3499  9SIB1PGFBX4913  ATI 100-437105 Radeon 9550 256MB 128-bit DDR A...   NaN   \n",
      "3500  9SIAJZYB8H5843  ATI 100-505175 FireMV 2250 256Mb GDDR2 2048x15...   NaN   \n",
      "3512  9SIB1PGFBW6693    ATI FirePro V7800 2GB 256-bit GDDR5 PCI Express   NaN   \n",
      "3514  9SIAJZYB0V9851  ATI Technologies 100-505084 FireGL V3200 128Mb...   NaN   \n",
      "\n",
      "     Rating  Number of rating    Price          Shiping  \\\n",
      "98      NaN               NaN   259.99    Free Shipping   \n",
      "116     NaN               NaN   239.99    Free Shipping   \n",
      "121     NaN               NaN   139.99    Free Shipping   \n",
      "357     NaN               NaN  1699.00    Free Shipping   \n",
      "385     NaN               NaN  1699.00    Free Shipping   \n",
      "...     ...               ...      ...              ...   \n",
      "3483    NaN               NaN   119.99    Free Shipping   \n",
      "3499    NaN               NaN   203.00    Free Shipping   \n",
      "3500    NaN               NaN    89.00  $15.00 Shipping   \n",
      "3512    NaN               NaN   244.00    Free Shipping   \n",
      "3514    NaN               NaN   109.00  $15.00 Shipping   \n",
      "\n",
      "                                                  Image  \\\n",
      "98    https://www.newegg.com/sparkle-arc-a750-sa750t...   \n",
      "116   https://www.newegg.com/sparkle-arc-a750-sa750c...   \n",
      "121   https://www.newegg.com/sparkle-arc-a380-sa380e...   \n",
      "357             https://www.newegg.com/p/1DW-00EW-00001   \n",
      "385             https://www.newegg.com/p/1DW-00EW-00009   \n",
      "...                                                 ...   \n",
      "3483            https://www.newegg.com/p/27N-0068-000F6   \n",
      "3499            https://www.newegg.com/p/27N-0001-00072   \n",
      "3500            https://www.newegg.com/p/27N-0049-00003   \n",
      "3512            https://www.newegg.com/p/27N-0001-00024   \n",
      "3514            https://www.newegg.com/p/27N-0001-001C4   \n",
      "\n",
      "                                    Product Information  \n",
      "98    [{'Max Resolution': '7680 x 4320'}, {'DisplayP...  \n",
      "116   [{'Max Resolution': '7680 x 4320'}, {'DisplayP...  \n",
      "121   [{'Core Clock': '2000 MHz'}, {'Max Resolution'...  \n",
      "357   [{'Model #': '6563'}, {'Item #': '9SIB1PGJNB41...  \n",
      "385   [{'Model #': '6556'}, {'Item #': '9SIB1PGG1Y26...  \n",
      "...                                                 ...  \n",
      "3483  [{'Model #': 'Onda-R5 220 2GD3-05'}, {'Item #'...  \n",
      "3499  [{'Model #': '00062N5AY'}, {'Item #': '9SIB1PG...  \n",
      "3500  [{'Model #': '100-505175'}, {'Item #': '9SIAJZ...  \n",
      "3512  [{'Model #': 'V7800'}, {'Item #': '9SIB1PGFBW6...  \n",
      "3514  [{'Model #': '100-505084'}, {'Item #': '9SIAJZ...  \n",
      "\n",
      "[97 rows x 9 columns]\n"
     ]
    }
   ],
   "source": [
    "#check empty rows in brand\n",
    "empty_rows = data_df[data_df['Brand'].isnull()]\n",
    "print(empty_rows)"
   ]
  },
  {
   "cell_type": "code",
   "execution_count": 39,
   "id": "c9b830ce",
   "metadata": {
    "collapsed": true
   },
   "outputs": [
    {
     "name": "stdout",
     "output_type": "stream",
     "text": [
      "                  ID                                               Name  \\\n",
      "2         14-500-559  ZOTAC GAMING GeForce RTX 4060 8GB OC Spider-Ma...   \n",
      "4         14-932-630  GIGABYTE GeForce RTX 4060 WINDFORCE OC 8G Grap...   \n",
      "17        14-500-558  ZOTAC GAMING GeForce RTX 4060 8GB Solo DLSS 3 ...   \n",
      "27        14-930-093  ASRock Challenger Radeon RX 7600 8GB GDDR6 PCI...   \n",
      "33        14-932-627  GIGABYTE GeForce RTX 4060 AERO OC 8G Graphics ...   \n",
      "...              ...                                                ...   \n",
      "3557  9SIB1PGJ846814  PNY Tesla M10 32 GB GDDR5 Graphics Card (TCSM1...   \n",
      "3559  9SIB1PGFBW0408  HPE NVIDIA Tesla M10 Graphic Card 32 GB GDDR5 ...   \n",
      "3560  9SIBBB1HSM4109  GIGABYTE GeForce RTX 3050 EAGLE OC 8G GDDR6 17...   \n",
      "3561  9SIAPNMEUH5062  GIGABYTE GeForce GT 1030 Low Profile 2GB, GV-N...   \n",
      "3562  9SIAPMXH4A5461  NVIDIA Tesla P40 24GB GDDR5 WORKSTATION Graphi...   \n",
      "\n",
      "                       Brand Rating  Number of rating    Price  \\\n",
      "2                      ZOTAC    NaN               NaN   299.99   \n",
      "4                   GIGABYTE    NaN               NaN   299.99   \n",
      "17                     ZOTAC    NaN               NaN   299.99   \n",
      "27                    ASRock    NaN               NaN   269.99   \n",
      "33                  GIGABYTE    NaN               NaN   329.99   \n",
      "...                      ...    ...               ...      ...   \n",
      "3557  PNY Technologies, Inc.    NaN               NaN  1899.00   \n",
      "3559                     HPE    NaN               NaN  1899.00   \n",
      "3560                GIGABYTE    NaN               NaN   415.99   \n",
      "3561                GIGABYTE    NaN               NaN   117.00   \n",
      "3562  PNY Technologies, Inc.    NaN               NaN  1499.99   \n",
      "\n",
      "              Shiping                                              Image  \\\n",
      "2       Free Shipping  https://www.newegg.com/asus-geforce-rtx-4060-d...   \n",
      "4       Free Shipping  https://www.newegg.com/gigabyte-geforce-rtx-40...   \n",
      "17      Free Shipping  https://www.newegg.com/zotac-geforce-rtx-4060-...   \n",
      "27      Free Shipping  https://www.newegg.com/asrock-radeon-rx-7600-r...   \n",
      "33      Free Shipping  https://www.newegg.com/gigabyte-geforce-rtx-40...   \n",
      "...               ...                                                ...   \n",
      "3557    Free Shipping            https://www.newegg.com/p/1FT-000P-005H1   \n",
      "3559    Free Shipping            https://www.newegg.com/p/1FT-0068-00008   \n",
      "3560  $49.99 Shipping  https://www.newegg.com/gigabyte-geforce-rtx-30...   \n",
      "3561  $49.99 Shipping            https://www.newegg.com/p/1FT-00DS-00020   \n",
      "3562    Free Shipping            https://www.newegg.com/p/1FT-000P-004T3   \n",
      "\n",
      "                                    Product Information  \\\n",
      "2     [{'Max Resolution': '7680 x 4320'}, {'DisplayP...   \n",
      "4     [{'Max Resolution': '7680 x 4320'}, {'DisplayP...   \n",
      "17    [{'Max Resolution': '7680 x 4320'}, {'DisplayP...   \n",
      "27    [{'Max Resolution': '7680 x 4320'}, {'DisplayP...   \n",
      "33    [{'Max Resolution': '7680 x 4320'}, {'DisplayP...   \n",
      "...                                                 ...   \n",
      "3557  [{'Model #': 'PNY206'}, {'Item #': '9SIB1PGJ84...   \n",
      "3559  [{'Max GPU Length': '267 mm'}, {'Model #': 'Q0...   \n",
      "3560  [{'DirectX': '12 Ultimate'}, {'Chipset Manufac...   \n",
      "3561  [{'Model #': 'GV-N1030D5-2GL-010'}, {'Item #':...   \n",
      "3562  [{'Model #': 'XRL-106'}, {'Item #': '9SIAPMXH4...   \n",
      "\n",
      "                   new_brand  \n",
      "2                      ZOTAC  \n",
      "4                   GIGABYTE  \n",
      "17                     ZOTAC  \n",
      "27                    ASRock  \n",
      "33                  GIGABYTE  \n",
      "...                      ...  \n",
      "3557  PNY Technologies, Inc.  \n",
      "3559                     HPE  \n",
      "3560                GIGABYTE  \n",
      "3561                GIGABYTE  \n",
      "3562  PNY Technologies, Inc.  \n",
      "\n",
      "[1690 rows x 10 columns]\n"
     ]
    }
   ],
   "source": [
    "#check empty rows in Rating and Number of Rating\n",
    "empty_rows = data_df[data_df['Rating'].isnull()]\n",
    "print(empty_rows)\n",
    "\n",
    "#CHECK THE EMPTY ROWS IN RATING AND NUMBER OF RATING, there are actually there is no information"
   ]
  },
  {
   "cell_type": "code",
   "execution_count": 99,
   "id": "e21f11db",
   "metadata": {},
   "outputs": [
    {
     "name": "stdout",
     "output_type": "stream",
     "text": [
      "The table has 654 duplicates based on cols:  ID Name Price Shiping Rating Number of rating Product Information\n"
     ]
    },
    {
     "data": {
      "text/html": [
       "<div>\n",
       "<style scoped>\n",
       "    .dataframe tbody tr th:only-of-type {\n",
       "        vertical-align: middle;\n",
       "    }\n",
       "\n",
       "    .dataframe tbody tr th {\n",
       "        vertical-align: top;\n",
       "    }\n",
       "\n",
       "    .dataframe thead th {\n",
       "        text-align: right;\n",
       "    }\n",
       "</style>\n",
       "<table border=\"1\" class=\"dataframe\">\n",
       "  <thead>\n",
       "    <tr style=\"text-align: right;\">\n",
       "      <th></th>\n",
       "      <th>ID</th>\n",
       "      <th>Name</th>\n",
       "      <th>Brand</th>\n",
       "      <th>Rating</th>\n",
       "      <th>Number of rating</th>\n",
       "      <th>Price</th>\n",
       "      <th>Shiping</th>\n",
       "      <th>Image</th>\n",
       "      <th>Product Information</th>\n",
       "      <th>new_brand</th>\n",
       "    </tr>\n",
       "  </thead>\n",
       "  <tbody>\n",
       "    <tr>\n",
       "      <th>213</th>\n",
       "      <td>9SIB1PGFBX8058</td>\n",
       "      <td>NVIDIA Official GeForce RTX 2080 Founders Edit...</td>\n",
       "      <td>NVIDIA</td>\n",
       "      <td>Rating + 3</td>\n",
       "      <td>1.0</td>\n",
       "      <td>849.00</td>\n",
       "      <td>Free Shipping</td>\n",
       "      <td>https://www.newegg.com/p/1FT-0004-002R2</td>\n",
       "      <td>[{'Core Clock': '1515 MHz'}, {'Max Resolution'...</td>\n",
       "      <td>NVIDIA</td>\n",
       "    </tr>\n",
       "    <tr>\n",
       "      <th>219</th>\n",
       "      <td>9SIAYTVEWM9503</td>\n",
       "      <td>GIGABYTE AORUS Radeon RX 6900 XT 16GB GDDR6 PC...</td>\n",
       "      <td>GIGABYTE</td>\n",
       "      <td>Rating + 4.8</td>\n",
       "      <td>16.0</td>\n",
       "      <td>899.75</td>\n",
       "      <td>$49.99 Shipping</td>\n",
       "      <td>https://www.newegg.com/gigabyte-radeon-rx-6900...</td>\n",
       "      <td>[{'Max Resolution': '7680 x 4320'}, {'DisplayP...</td>\n",
       "      <td>GIGABYTE</td>\n",
       "    </tr>\n",
       "    <tr>\n",
       "      <th>237</th>\n",
       "      <td>9SIB1PGFBZ4965</td>\n",
       "      <td>MSI Radeon R9 390 8GB GDDR5 PCI Express 3.0 Cr...</td>\n",
       "      <td>MSI</td>\n",
       "      <td>Rating + 4</td>\n",
       "      <td>313.0</td>\n",
       "      <td>399.00</td>\n",
       "      <td>Free Shipping</td>\n",
       "      <td>https://www.newegg.com/msi-radeon-r9-390-r9-39...</td>\n",
       "      <td>[{'Core Clock': '1060 MHz (OC Mode)\\n1040 MHz ...</td>\n",
       "      <td>MSI</td>\n",
       "    </tr>\n",
       "    <tr>\n",
       "      <th>245</th>\n",
       "      <td>9SIA4YUGX38250</td>\n",
       "      <td>Palit GameRock NVIDIA GeForce RTX 3090 24GB GD...</td>\n",
       "      <td>PALIT</td>\n",
       "      <td>NaN</td>\n",
       "      <td>NaN</td>\n",
       "      <td>3278.51</td>\n",
       "      <td>Free Shipping</td>\n",
       "      <td>https://www.newegg.com/p/1FT-0099-00066</td>\n",
       "      <td>[{'Model #': 'NED3090T19SB-1021G'}, {'Return P...</td>\n",
       "      <td>PALIT</td>\n",
       "    </tr>\n",
       "    <tr>\n",
       "      <th>246</th>\n",
       "      <td>9SIARPHJJS3837</td>\n",
       "      <td>GIGABYTE GeForce GTX 1050 Ti OC Low Profile 4G...</td>\n",
       "      <td>GIGABYTE</td>\n",
       "      <td>Rating + 3.9</td>\n",
       "      <td>126.0</td>\n",
       "      <td>188.23</td>\n",
       "      <td>$49.99 Shipping</td>\n",
       "      <td>https://www.newegg.com/gigabyte-geforce-gtx-10...</td>\n",
       "      <td>[{'Core Clock': '1328 MHz in OC Mode\\n1303 MHz...</td>\n",
       "      <td>GIGABYTE</td>\n",
       "    </tr>\n",
       "    <tr>\n",
       "      <th>...</th>\n",
       "      <td>...</td>\n",
       "      <td>...</td>\n",
       "      <td>...</td>\n",
       "      <td>...</td>\n",
       "      <td>...</td>\n",
       "      <td>...</td>\n",
       "      <td>...</td>\n",
       "      <td>...</td>\n",
       "      <td>...</td>\n",
       "      <td>...</td>\n",
       "    </tr>\n",
       "    <tr>\n",
       "      <th>3550</th>\n",
       "      <td>9SIAPNMEUH5051</td>\n",
       "      <td>GIGABYTE GeForce GT 1030 Low Profile 2GB, GV-N...</td>\n",
       "      <td>GIGABYTE</td>\n",
       "      <td>NaN</td>\n",
       "      <td>NaN</td>\n",
       "      <td>114.79</td>\n",
       "      <td>$49.99 Shipping</td>\n",
       "      <td>https://www.newegg.com/p/1FT-00DS-00013</td>\n",
       "      <td>[{'Model #': 'GV-N1030D5-2GL-003'}, {'Return P...</td>\n",
       "      <td>GIGABYTE</td>\n",
       "    </tr>\n",
       "    <tr>\n",
       "      <th>3551</th>\n",
       "      <td>9SIAPNMEUH5052</td>\n",
       "      <td>GIGABYTE GeForce GT 1030 Low Profile 2GB, GV-N...</td>\n",
       "      <td>GIGABYTE</td>\n",
       "      <td>NaN</td>\n",
       "      <td>NaN</td>\n",
       "      <td>112.00</td>\n",
       "      <td>$49.99 Shipping</td>\n",
       "      <td>https://www.newegg.com/p/1FT-00DS-00015</td>\n",
       "      <td>[{'Model #': 'GV-N1030D5-2GL-002'}, {'Return P...</td>\n",
       "      <td>GIGABYTE</td>\n",
       "    </tr>\n",
       "    <tr>\n",
       "      <th>3552</th>\n",
       "      <td>9SIBBB1HE75771</td>\n",
       "      <td>GDDR6 Gigabyte GeForce RTX 3060 VISION OC 12G ...</td>\n",
       "      <td>GIGABYTE</td>\n",
       "      <td>NaN</td>\n",
       "      <td>NaN</td>\n",
       "      <td>549.99</td>\n",
       "      <td>$49.99 Shipping</td>\n",
       "      <td>https://www.newegg.com/p/1FT-000A-003W4</td>\n",
       "      <td>[{'Cooler': 'Air Cooler'}, {'Model #': 'c5bxu4...</td>\n",
       "      <td>GIGABYTE</td>\n",
       "    </tr>\n",
       "    <tr>\n",
       "      <th>3556</th>\n",
       "      <td>9SIAXZZJ8G4959</td>\n",
       "      <td>MAXSUN AMD Radeon RX 550 4GB Video Graphics Ca...</td>\n",
       "      <td>MAXSUN</td>\n",
       "      <td>NaN</td>\n",
       "      <td>NaN</td>\n",
       "      <td>115.99</td>\n",
       "      <td>Free Shipping</td>\n",
       "      <td>https://www.newegg.com/maxsun-rx-550/p/27N-005...</td>\n",
       "      <td>[{'Core Clock': '1100 MHz'}, {'Max Resolution'...</td>\n",
       "      <td>MAXSUN</td>\n",
       "    </tr>\n",
       "    <tr>\n",
       "      <th>3559</th>\n",
       "      <td>9SIB1PGFBW0408</td>\n",
       "      <td>HPE NVIDIA Tesla M10 Graphic Card 32 GB GDDR5 ...</td>\n",
       "      <td>HPE</td>\n",
       "      <td>NaN</td>\n",
       "      <td>NaN</td>\n",
       "      <td>1899.00</td>\n",
       "      <td>Free Shipping</td>\n",
       "      <td>https://www.newegg.com/p/1FT-0068-00008</td>\n",
       "      <td>[{'Max GPU Length': '267 mm'}, {'Model #': 'Q0...</td>\n",
       "      <td>HPE</td>\n",
       "    </tr>\n",
       "  </tbody>\n",
       "</table>\n",
       "<p>654 rows × 10 columns</p>\n",
       "</div>"
      ],
      "text/plain": [
       "                  ID                                               Name  \\\n",
       "213   9SIB1PGFBX8058  NVIDIA Official GeForce RTX 2080 Founders Edit...   \n",
       "219   9SIAYTVEWM9503  GIGABYTE AORUS Radeon RX 6900 XT 16GB GDDR6 PC...   \n",
       "237   9SIB1PGFBZ4965  MSI Radeon R9 390 8GB GDDR5 PCI Express 3.0 Cr...   \n",
       "245   9SIA4YUGX38250  Palit GameRock NVIDIA GeForce RTX 3090 24GB GD...   \n",
       "246   9SIARPHJJS3837  GIGABYTE GeForce GTX 1050 Ti OC Low Profile 4G...   \n",
       "...              ...                                                ...   \n",
       "3550  9SIAPNMEUH5051  GIGABYTE GeForce GT 1030 Low Profile 2GB, GV-N...   \n",
       "3551  9SIAPNMEUH5052  GIGABYTE GeForce GT 1030 Low Profile 2GB, GV-N...   \n",
       "3552  9SIBBB1HE75771  GDDR6 Gigabyte GeForce RTX 3060 VISION OC 12G ...   \n",
       "3556  9SIAXZZJ8G4959  MAXSUN AMD Radeon RX 550 4GB Video Graphics Ca...   \n",
       "3559  9SIB1PGFBW0408  HPE NVIDIA Tesla M10 Graphic Card 32 GB GDDR5 ...   \n",
       "\n",
       "         Brand        Rating  Number of rating    Price          Shiping  \\\n",
       "213     NVIDIA    Rating + 3               1.0   849.00    Free Shipping   \n",
       "219   GIGABYTE  Rating + 4.8              16.0   899.75  $49.99 Shipping   \n",
       "237        MSI    Rating + 4             313.0   399.00    Free Shipping   \n",
       "245      PALIT           NaN               NaN  3278.51    Free Shipping   \n",
       "246   GIGABYTE  Rating + 3.9             126.0   188.23  $49.99 Shipping   \n",
       "...        ...           ...               ...      ...              ...   \n",
       "3550  GIGABYTE           NaN               NaN   114.79  $49.99 Shipping   \n",
       "3551  GIGABYTE           NaN               NaN   112.00  $49.99 Shipping   \n",
       "3552  GIGABYTE           NaN               NaN   549.99  $49.99 Shipping   \n",
       "3556    MAXSUN           NaN               NaN   115.99    Free Shipping   \n",
       "3559       HPE           NaN               NaN  1899.00    Free Shipping   \n",
       "\n",
       "                                                  Image  \\\n",
       "213             https://www.newegg.com/p/1FT-0004-002R2   \n",
       "219   https://www.newegg.com/gigabyte-radeon-rx-6900...   \n",
       "237   https://www.newegg.com/msi-radeon-r9-390-r9-39...   \n",
       "245             https://www.newegg.com/p/1FT-0099-00066   \n",
       "246   https://www.newegg.com/gigabyte-geforce-gtx-10...   \n",
       "...                                                 ...   \n",
       "3550            https://www.newegg.com/p/1FT-00DS-00013   \n",
       "3551            https://www.newegg.com/p/1FT-00DS-00015   \n",
       "3552            https://www.newegg.com/p/1FT-000A-003W4   \n",
       "3556  https://www.newegg.com/maxsun-rx-550/p/27N-005...   \n",
       "3559            https://www.newegg.com/p/1FT-0068-00008   \n",
       "\n",
       "                                    Product Information new_brand  \n",
       "213   [{'Core Clock': '1515 MHz'}, {'Max Resolution'...    NVIDIA  \n",
       "219   [{'Max Resolution': '7680 x 4320'}, {'DisplayP...  GIGABYTE  \n",
       "237   [{'Core Clock': '1060 MHz (OC Mode)\\n1040 MHz ...       MSI  \n",
       "245   [{'Model #': 'NED3090T19SB-1021G'}, {'Return P...     PALIT  \n",
       "246   [{'Core Clock': '1328 MHz in OC Mode\\n1303 MHz...  GIGABYTE  \n",
       "...                                                 ...       ...  \n",
       "3550  [{'Model #': 'GV-N1030D5-2GL-003'}, {'Return P...  GIGABYTE  \n",
       "3551  [{'Model #': 'GV-N1030D5-2GL-002'}, {'Return P...  GIGABYTE  \n",
       "3552  [{'Cooler': 'Air Cooler'}, {'Model #': 'c5bxu4...  GIGABYTE  \n",
       "3556  [{'Core Clock': '1100 MHz'}, {'Max Resolution'...    MAXSUN  \n",
       "3559  [{'Max GPU Length': '267 mm'}, {'Model #': 'Q0...       HPE  \n",
       "\n",
       "[654 rows x 10 columns]"
      ]
     },
     "execution_count": 99,
     "metadata": {},
     "output_type": "execute_result"
    }
   ],
   "source": [
    "#write a function to check if column has duplicate value \n",
    "multi_duplicate(data_df,'ID','Name','Price','Shiping','Rating','Number of rating','Product Information')"
   ]
  },
  {
   "cell_type": "markdown",
   "id": "899d3206",
   "metadata": {},
   "source": [
    "#### Metadata information: \n",
    "\n",
    "The new_egg product csv file store the scraped data SKUs of video graphic card from the website https://www.newegg.com/GPUs-Video-Graphics-Cards/SubCategory/ID-48, run through 100 pages and get 3500+ products information\n",
    "\n",
    "The product information includes data of ID, Name, Brand, Rating and Number of people who rate, Price, Shipping price, the image, and detailed product information.\n",
    "\n",
    "However, here are many empty rows in Brand, Number of rating and Rating\n",
    "-- For emtpy row in Brand, can replace by the first letter from Name\n",
    "-- For emtpry rows in Number of rating and rating, there are acutally no information\n",
    "The shipping type is under the text, can transform to number to know the exact price\n",
    "\n",
    "For duplicates, already check that there are 654 cols which are duplicated, need to check if we can drop half of them out "
   ]
  },
  {
   "cell_type": "markdown",
   "id": "203a7b73",
   "metadata": {},
   "source": [
    "## Transform and clean data "
   ]
  },
  {
   "cell_type": "markdown",
   "id": "0bb685b8",
   "metadata": {},
   "source": [
    "#### Transform shipping from text to number\n",
    "Adding the new column as Total_Price"
   ]
  },
  {
   "cell_type": "code",
   "execution_count": 100,
   "id": "dfe30501",
   "metadata": {
    "scrolled": false
   },
   "outputs": [
    {
     "name": "stdout",
     "output_type": "stream",
     "text": [
      "['Free Shipping' '$49.99 Shipping' '$9.99 Shipping' '$19.99 Shipping'\n",
      " '$4.99 Shipping' '$5.99 Shipping' '$8.60 Shipping' '$6.99 Shipping'\n",
      " '$21.00 Shipping' '$7.99 Shipping' '$40.00 Shipping' '$8.99 Shipping'\n",
      " '$46.00 Shipping' '$14.99 Shipping' '$20.00 Shipping' 'Special Shipping'\n",
      " '$16.99 Shipping' '$10.00 Shipping' '$30.00 Shipping' '$39.99 Shipping'\n",
      " '$46.78 Shipping' '$18.00 Shipping' '$9.00 Shipping' '$14.10 Shipping'\n",
      " '$53.00 Shipping' '$64.33 Shipping' '$8.68 Shipping' '$24.76 Shipping'\n",
      " '$58.00 Shipping' '$21.19 Shipping' '$19.00 Shipping' '$96.00 Shipping'\n",
      " '$15.00 Shipping']\n"
     ]
    }
   ],
   "source": [
    "shipping_unique_values = data_df['Shiping'].unique()\n",
    "print(shipping_unique_values)"
   ]
  },
  {
   "cell_type": "code",
   "execution_count": 101,
   "id": "47980897",
   "metadata": {},
   "outputs": [
    {
     "name": "stdout",
     "output_type": "stream",
     "text": [
      "0\n",
      "0\n",
      "65.0\n"
     ]
    }
   ],
   "source": [
    "#Thêm một cột total price dựa trên giá shipping \n",
    "def ship_price(ship_type):\n",
    "    fee = 0\n",
    "    ship_type = ship_type.split()[0]\n",
    "    if ship_type in ('Free', 'Special'):\n",
    "        fee = 0        \n",
    "    else:\n",
    "        fee = float(ship_type[1:])\n",
    "    return fee\n",
    "\n",
    "print(ship_price('Free shiping'))\n",
    "print(ship_price('Special shiping'))\n",
    "print(ship_price('$65.00 Shipping'))"
   ]
  },
  {
   "cell_type": "code",
   "execution_count": 102,
   "id": "7ff96889",
   "metadata": {},
   "outputs": [],
   "source": [
    "#Thêm một cột total price dựa trên giá shipping \n",
    "data_df['Total_Price'] = data_df['Price'] + data_df['Shiping'].apply(ship_price)"
   ]
  },
  {
   "cell_type": "markdown",
   "id": "2b5688a6",
   "metadata": {},
   "source": [
    "#### Brand column, replace the empty with the brand from Name column"
   ]
  },
  {
   "cell_type": "code",
   "execution_count": 103,
   "id": "b0fd57d9",
   "metadata": {},
   "outputs": [],
   "source": [
    "#create the new column as new_brand\n",
    "#if brand name is empty in data_df , take it from the colum Title\n",
    "data_df['new_brand'] = data_df['Brand'] \n",
    "\n",
    "#find the indices where brand is empty\n",
    "# df['brand'].isnull() is to filter the dataframe df to select rows ( return the boolean mask)\n",
    "empty_indices = data_df[data_df['Brand'].isnull()].index\n",
    "\n",
    "#iterate over the empty indices and update the new_brand\n",
    "for index in empty_indices:\n",
    "    data_df.loc[index,'new_brand'] = data_df.loc[index,'Name'].split(' ')[0]"
   ]
  },
  {
   "cell_type": "code",
   "execution_count": 104,
   "id": "9df2a661",
   "metadata": {},
   "outputs": [
    {
     "name": "stdout",
     "output_type": "stream",
     "text": [
      "Empty DataFrame\n",
      "Columns: [ID, Name, Brand, Rating, Number of rating, Price, Shiping, Image, Product Information, new_brand, Total_Price]\n",
      "Index: []\n"
     ]
    }
   ],
   "source": [
    "#check empty rows in brand\n",
    "empty_rows = data_df[data_df['new_brand'].isnull()]\n",
    "print(empty_rows)"
   ]
  },
  {
   "cell_type": "code",
   "execution_count": 105,
   "id": "a8d64507",
   "metadata": {
    "collapsed": true
   },
   "outputs": [
    {
     "name": "stdout",
     "output_type": "stream",
     "text": [
      "                  ID                                               Name Brand  \\\n",
      "98        14-993-001  SPARKLE Intel Arc A750 TITAN OC Edition, 8GB G...   NaN   \n",
      "116       14-993-002  SPARKLE Intel Arc A750 ORC OC Edition, 8GB GDD...   NaN   \n",
      "121       14-993-003  SPARKLE Intel Arc A380 ELF, 6GB GDDR6, Single ...   NaN   \n",
      "357   9SIB1PGJNB4195  EVGA GeForce RTX 3090 FTW3 ULTRA GAMING Video ...   NaN   \n",
      "385   9SIB1PGG1Y2678  EVGA GeForce RTX 3090 XC3 ULTRA GAMING Video C...   NaN   \n",
      "...              ...                                                ...   ...   \n",
      "3483  9SIAT8UEUY8884  ONDA R5 220 Model 2GD3 AMD 550Mhz 80 SDDR3 2GB...   NaN   \n",
      "3499  9SIB1PGFBX4913  ATI 100-437105 Radeon 9550 256MB 128-bit DDR A...   NaN   \n",
      "3500  9SIAJZYB8H5843  ATI 100-505175 FireMV 2250 256Mb GDDR2 2048x15...   NaN   \n",
      "3512  9SIB1PGFBW6693    ATI FirePro V7800 2GB 256-bit GDDR5 PCI Express   NaN   \n",
      "3514  9SIAJZYB0V9851  ATI Technologies 100-505084 FireGL V3200 128Mb...   NaN   \n",
      "\n",
      "     Rating  Number of rating    Price          Shiping  \\\n",
      "98      NaN               NaN   259.99    Free Shipping   \n",
      "116     NaN               NaN   239.99    Free Shipping   \n",
      "121     NaN               NaN   139.99    Free Shipping   \n",
      "357     NaN               NaN  1699.00    Free Shipping   \n",
      "385     NaN               NaN  1699.00    Free Shipping   \n",
      "...     ...               ...      ...              ...   \n",
      "3483    NaN               NaN   119.99    Free Shipping   \n",
      "3499    NaN               NaN   203.00    Free Shipping   \n",
      "3500    NaN               NaN    89.00  $15.00 Shipping   \n",
      "3512    NaN               NaN   244.00    Free Shipping   \n",
      "3514    NaN               NaN   109.00  $15.00 Shipping   \n",
      "\n",
      "                                                  Image  \\\n",
      "98    https://www.newegg.com/sparkle-arc-a750-sa750t...   \n",
      "116   https://www.newegg.com/sparkle-arc-a750-sa750c...   \n",
      "121   https://www.newegg.com/sparkle-arc-a380-sa380e...   \n",
      "357             https://www.newegg.com/p/1DW-00EW-00001   \n",
      "385             https://www.newegg.com/p/1DW-00EW-00009   \n",
      "...                                                 ...   \n",
      "3483            https://www.newegg.com/p/27N-0068-000F6   \n",
      "3499            https://www.newegg.com/p/27N-0001-00072   \n",
      "3500            https://www.newegg.com/p/27N-0049-00003   \n",
      "3512            https://www.newegg.com/p/27N-0001-00024   \n",
      "3514            https://www.newegg.com/p/27N-0001-001C4   \n",
      "\n",
      "                                    Product Information new_brand  Total_Price  \n",
      "98    [{'Max Resolution': '7680 x 4320'}, {'DisplayP...   SPARKLE       259.99  \n",
      "116   [{'Max Resolution': '7680 x 4320'}, {'DisplayP...   SPARKLE       239.99  \n",
      "121   [{'Core Clock': '2000 MHz'}, {'Max Resolution'...   SPARKLE       139.99  \n",
      "357   [{'Model #': '6563'}, {'Item #': '9SIB1PGJNB41...      EVGA      1699.00  \n",
      "385   [{'Model #': '6556'}, {'Item #': '9SIB1PGG1Y26...      EVGA      1699.00  \n",
      "...                                                 ...       ...          ...  \n",
      "3483  [{'Model #': 'Onda-R5 220 2GD3-05'}, {'Item #'...      ONDA       119.99  \n",
      "3499  [{'Model #': '00062N5AY'}, {'Item #': '9SIB1PG...       ATI       203.00  \n",
      "3500  [{'Model #': '100-505175'}, {'Item #': '9SIAJZ...       ATI       104.00  \n",
      "3512  [{'Model #': 'V7800'}, {'Item #': '9SIB1PGFBW6...       ATI       244.00  \n",
      "3514  [{'Model #': '100-505084'}, {'Item #': '9SIAJZ...       ATI       124.00  \n",
      "\n",
      "[97 rows x 11 columns]\n"
     ]
    }
   ],
   "source": [
    "#check corresponding brand with newbrand to see if it replaced yet\n",
    "empty_rows = data_df[data_df['Brand'].isnull()]\n",
    "print(empty_rows)"
   ]
  },
  {
   "cell_type": "markdown",
   "id": "e7b24c0e",
   "metadata": {},
   "source": [
    "#### Transform Rating columns to a new column with only rating number"
   ]
  },
  {
   "cell_type": "code",
   "execution_count": 136,
   "id": "f602c964",
   "metadata": {
    "collapsed": true
   },
   "outputs": [
    {
     "name": "stdout",
     "output_type": "stream",
     "text": [
      "0    4.7\n",
      "1    4.6\n",
      "2    NaN\n",
      "3    4.8\n",
      "4    NaN\n",
      "5    4.5\n",
      "6    4.7\n",
      "7    4.3\n",
      "8    4.7\n",
      "9    4.9\n",
      "Name: new_rating, dtype: float64\n",
      "There are 1690 empty cells in the new_rating column\n"
     ]
    },
    {
     "data": {
      "text/html": [
       "<div>\n",
       "<style scoped>\n",
       "    .dataframe tbody tr th:only-of-type {\n",
       "        vertical-align: middle;\n",
       "    }\n",
       "\n",
       "    .dataframe tbody tr th {\n",
       "        vertical-align: top;\n",
       "    }\n",
       "\n",
       "    .dataframe thead th {\n",
       "        text-align: right;\n",
       "    }\n",
       "</style>\n",
       "<table border=\"1\" class=\"dataframe\">\n",
       "  <thead>\n",
       "    <tr style=\"text-align: right;\">\n",
       "      <th></th>\n",
       "      <th>ID</th>\n",
       "      <th>Name</th>\n",
       "      <th>Brand</th>\n",
       "      <th>Rating</th>\n",
       "      <th>Number of rating</th>\n",
       "      <th>Price</th>\n",
       "      <th>Shiping</th>\n",
       "      <th>Image</th>\n",
       "      <th>Product Information</th>\n",
       "      <th>new_brand</th>\n",
       "      <th>Total_Price</th>\n",
       "      <th>new_rating</th>\n",
       "    </tr>\n",
       "  </thead>\n",
       "  <tbody>\n",
       "    <tr>\n",
       "      <th>2</th>\n",
       "      <td>14-500-559</td>\n",
       "      <td>ZOTAC GAMING GeForce RTX 4060 8GB OC Spider-Ma...</td>\n",
       "      <td>ZOTAC</td>\n",
       "      <td>NaN</td>\n",
       "      <td>NaN</td>\n",
       "      <td>299.99</td>\n",
       "      <td>Free Shipping</td>\n",
       "      <td>https://www.newegg.com/asus-geforce-rtx-4060-d...</td>\n",
       "      <td>[{'Max Resolution': '7680 x 4320'}, {'DisplayP...</td>\n",
       "      <td>ZOTAC</td>\n",
       "      <td>299.99</td>\n",
       "      <td>NaN</td>\n",
       "    </tr>\n",
       "    <tr>\n",
       "      <th>4</th>\n",
       "      <td>14-932-630</td>\n",
       "      <td>GIGABYTE GeForce RTX 4060 WINDFORCE OC 8G Grap...</td>\n",
       "      <td>GIGABYTE</td>\n",
       "      <td>NaN</td>\n",
       "      <td>NaN</td>\n",
       "      <td>299.99</td>\n",
       "      <td>Free Shipping</td>\n",
       "      <td>https://www.newegg.com/gigabyte-geforce-rtx-40...</td>\n",
       "      <td>[{'Max Resolution': '7680 x 4320'}, {'DisplayP...</td>\n",
       "      <td>GIGABYTE</td>\n",
       "      <td>299.99</td>\n",
       "      <td>NaN</td>\n",
       "    </tr>\n",
       "    <tr>\n",
       "      <th>17</th>\n",
       "      <td>14-500-558</td>\n",
       "      <td>ZOTAC GAMING GeForce RTX 4060 8GB Solo DLSS 3 ...</td>\n",
       "      <td>ZOTAC</td>\n",
       "      <td>NaN</td>\n",
       "      <td>NaN</td>\n",
       "      <td>299.99</td>\n",
       "      <td>Free Shipping</td>\n",
       "      <td>https://www.newegg.com/zotac-geforce-rtx-4060-...</td>\n",
       "      <td>[{'Max Resolution': '7680 x 4320'}, {'DisplayP...</td>\n",
       "      <td>ZOTAC</td>\n",
       "      <td>299.99</td>\n",
       "      <td>NaN</td>\n",
       "    </tr>\n",
       "    <tr>\n",
       "      <th>27</th>\n",
       "      <td>14-930-093</td>\n",
       "      <td>ASRock Challenger Radeon RX 7600 8GB GDDR6 PCI...</td>\n",
       "      <td>ASRock</td>\n",
       "      <td>NaN</td>\n",
       "      <td>NaN</td>\n",
       "      <td>269.99</td>\n",
       "      <td>Free Shipping</td>\n",
       "      <td>https://www.newegg.com/asrock-radeon-rx-7600-r...</td>\n",
       "      <td>[{'Max Resolution': '7680 x 4320'}, {'DisplayP...</td>\n",
       "      <td>ASRock</td>\n",
       "      <td>269.99</td>\n",
       "      <td>NaN</td>\n",
       "    </tr>\n",
       "    <tr>\n",
       "      <th>33</th>\n",
       "      <td>14-932-627</td>\n",
       "      <td>GIGABYTE GeForce RTX 4060 AERO OC 8G Graphics ...</td>\n",
       "      <td>GIGABYTE</td>\n",
       "      <td>NaN</td>\n",
       "      <td>NaN</td>\n",
       "      <td>329.99</td>\n",
       "      <td>Free Shipping</td>\n",
       "      <td>https://www.newegg.com/gigabyte-geforce-rtx-40...</td>\n",
       "      <td>[{'Max Resolution': '7680 x 4320'}, {'DisplayP...</td>\n",
       "      <td>GIGABYTE</td>\n",
       "      <td>329.99</td>\n",
       "      <td>NaN</td>\n",
       "    </tr>\n",
       "    <tr>\n",
       "      <th>...</th>\n",
       "      <td>...</td>\n",
       "      <td>...</td>\n",
       "      <td>...</td>\n",
       "      <td>...</td>\n",
       "      <td>...</td>\n",
       "      <td>...</td>\n",
       "      <td>...</td>\n",
       "      <td>...</td>\n",
       "      <td>...</td>\n",
       "      <td>...</td>\n",
       "      <td>...</td>\n",
       "      <td>...</td>\n",
       "    </tr>\n",
       "    <tr>\n",
       "      <th>3557</th>\n",
       "      <td>9SIB1PGJ846814</td>\n",
       "      <td>PNY Tesla M10 32 GB GDDR5 Graphics Card (TCSM1...</td>\n",
       "      <td>PNY Technologies, Inc.</td>\n",
       "      <td>NaN</td>\n",
       "      <td>NaN</td>\n",
       "      <td>1899.00</td>\n",
       "      <td>Free Shipping</td>\n",
       "      <td>https://www.newegg.com/p/1FT-000P-005H1</td>\n",
       "      <td>[{'Model #': 'PNY206'}, {'Item #': '9SIB1PGJ84...</td>\n",
       "      <td>PNY Technologies, Inc.</td>\n",
       "      <td>1899.00</td>\n",
       "      <td>NaN</td>\n",
       "    </tr>\n",
       "    <tr>\n",
       "      <th>3559</th>\n",
       "      <td>9SIB1PGFBW0408</td>\n",
       "      <td>HPE NVIDIA Tesla M10 Graphic Card 32 GB GDDR5 ...</td>\n",
       "      <td>HPE</td>\n",
       "      <td>NaN</td>\n",
       "      <td>NaN</td>\n",
       "      <td>1899.00</td>\n",
       "      <td>Free Shipping</td>\n",
       "      <td>https://www.newegg.com/p/1FT-0068-00008</td>\n",
       "      <td>[{'Max GPU Length': '267 mm'}, {'Model #': 'Q0...</td>\n",
       "      <td>HPE</td>\n",
       "      <td>1899.00</td>\n",
       "      <td>NaN</td>\n",
       "    </tr>\n",
       "    <tr>\n",
       "      <th>3560</th>\n",
       "      <td>9SIBBB1HSM4109</td>\n",
       "      <td>GIGABYTE GeForce RTX 3050 EAGLE OC 8G GDDR6 17...</td>\n",
       "      <td>GIGABYTE</td>\n",
       "      <td>NaN</td>\n",
       "      <td>NaN</td>\n",
       "      <td>415.99</td>\n",
       "      <td>$49.99 Shipping</td>\n",
       "      <td>https://www.newegg.com/gigabyte-geforce-rtx-30...</td>\n",
       "      <td>[{'DirectX': '12 Ultimate'}, {'Chipset Manufac...</td>\n",
       "      <td>GIGABYTE</td>\n",
       "      <td>465.98</td>\n",
       "      <td>NaN</td>\n",
       "    </tr>\n",
       "    <tr>\n",
       "      <th>3561</th>\n",
       "      <td>9SIAPNMEUH5062</td>\n",
       "      <td>GIGABYTE GeForce GT 1030 Low Profile 2GB, GV-N...</td>\n",
       "      <td>GIGABYTE</td>\n",
       "      <td>NaN</td>\n",
       "      <td>NaN</td>\n",
       "      <td>117.00</td>\n",
       "      <td>$49.99 Shipping</td>\n",
       "      <td>https://www.newegg.com/p/1FT-00DS-00020</td>\n",
       "      <td>[{'Model #': 'GV-N1030D5-2GL-010'}, {'Item #':...</td>\n",
       "      <td>GIGABYTE</td>\n",
       "      <td>166.99</td>\n",
       "      <td>NaN</td>\n",
       "    </tr>\n",
       "    <tr>\n",
       "      <th>3562</th>\n",
       "      <td>9SIAPMXH4A5461</td>\n",
       "      <td>NVIDIA Tesla P40 24GB GDDR5 WORKSTATION Graphi...</td>\n",
       "      <td>PNY Technologies, Inc.</td>\n",
       "      <td>NaN</td>\n",
       "      <td>NaN</td>\n",
       "      <td>1499.99</td>\n",
       "      <td>Free Shipping</td>\n",
       "      <td>https://www.newegg.com/p/1FT-000P-004T3</td>\n",
       "      <td>[{'Model #': 'XRL-106'}, {'Item #': '9SIAPMXH4...</td>\n",
       "      <td>PNY Technologies, Inc.</td>\n",
       "      <td>1499.99</td>\n",
       "      <td>NaN</td>\n",
       "    </tr>\n",
       "  </tbody>\n",
       "</table>\n",
       "<p>1690 rows × 12 columns</p>\n",
       "</div>"
      ],
      "text/plain": [
       "                  ID                                               Name  \\\n",
       "2         14-500-559  ZOTAC GAMING GeForce RTX 4060 8GB OC Spider-Ma...   \n",
       "4         14-932-630  GIGABYTE GeForce RTX 4060 WINDFORCE OC 8G Grap...   \n",
       "17        14-500-558  ZOTAC GAMING GeForce RTX 4060 8GB Solo DLSS 3 ...   \n",
       "27        14-930-093  ASRock Challenger Radeon RX 7600 8GB GDDR6 PCI...   \n",
       "33        14-932-627  GIGABYTE GeForce RTX 4060 AERO OC 8G Graphics ...   \n",
       "...              ...                                                ...   \n",
       "3557  9SIB1PGJ846814  PNY Tesla M10 32 GB GDDR5 Graphics Card (TCSM1...   \n",
       "3559  9SIB1PGFBW0408  HPE NVIDIA Tesla M10 Graphic Card 32 GB GDDR5 ...   \n",
       "3560  9SIBBB1HSM4109  GIGABYTE GeForce RTX 3050 EAGLE OC 8G GDDR6 17...   \n",
       "3561  9SIAPNMEUH5062  GIGABYTE GeForce GT 1030 Low Profile 2GB, GV-N...   \n",
       "3562  9SIAPMXH4A5461  NVIDIA Tesla P40 24GB GDDR5 WORKSTATION Graphi...   \n",
       "\n",
       "                       Brand Rating  Number of rating    Price  \\\n",
       "2                      ZOTAC    NaN               NaN   299.99   \n",
       "4                   GIGABYTE    NaN               NaN   299.99   \n",
       "17                     ZOTAC    NaN               NaN   299.99   \n",
       "27                    ASRock    NaN               NaN   269.99   \n",
       "33                  GIGABYTE    NaN               NaN   329.99   \n",
       "...                      ...    ...               ...      ...   \n",
       "3557  PNY Technologies, Inc.    NaN               NaN  1899.00   \n",
       "3559                     HPE    NaN               NaN  1899.00   \n",
       "3560                GIGABYTE    NaN               NaN   415.99   \n",
       "3561                GIGABYTE    NaN               NaN   117.00   \n",
       "3562  PNY Technologies, Inc.    NaN               NaN  1499.99   \n",
       "\n",
       "              Shiping                                              Image  \\\n",
       "2       Free Shipping  https://www.newegg.com/asus-geforce-rtx-4060-d...   \n",
       "4       Free Shipping  https://www.newegg.com/gigabyte-geforce-rtx-40...   \n",
       "17      Free Shipping  https://www.newegg.com/zotac-geforce-rtx-4060-...   \n",
       "27      Free Shipping  https://www.newegg.com/asrock-radeon-rx-7600-r...   \n",
       "33      Free Shipping  https://www.newegg.com/gigabyte-geforce-rtx-40...   \n",
       "...               ...                                                ...   \n",
       "3557    Free Shipping            https://www.newegg.com/p/1FT-000P-005H1   \n",
       "3559    Free Shipping            https://www.newegg.com/p/1FT-0068-00008   \n",
       "3560  $49.99 Shipping  https://www.newegg.com/gigabyte-geforce-rtx-30...   \n",
       "3561  $49.99 Shipping            https://www.newegg.com/p/1FT-00DS-00020   \n",
       "3562    Free Shipping            https://www.newegg.com/p/1FT-000P-004T3   \n",
       "\n",
       "                                    Product Information  \\\n",
       "2     [{'Max Resolution': '7680 x 4320'}, {'DisplayP...   \n",
       "4     [{'Max Resolution': '7680 x 4320'}, {'DisplayP...   \n",
       "17    [{'Max Resolution': '7680 x 4320'}, {'DisplayP...   \n",
       "27    [{'Max Resolution': '7680 x 4320'}, {'DisplayP...   \n",
       "33    [{'Max Resolution': '7680 x 4320'}, {'DisplayP...   \n",
       "...                                                 ...   \n",
       "3557  [{'Model #': 'PNY206'}, {'Item #': '9SIB1PGJ84...   \n",
       "3559  [{'Max GPU Length': '267 mm'}, {'Model #': 'Q0...   \n",
       "3560  [{'DirectX': '12 Ultimate'}, {'Chipset Manufac...   \n",
       "3561  [{'Model #': 'GV-N1030D5-2GL-010'}, {'Item #':...   \n",
       "3562  [{'Model #': 'XRL-106'}, {'Item #': '9SIAPMXH4...   \n",
       "\n",
       "                   new_brand  Total_Price  new_rating  \n",
       "2                      ZOTAC       299.99         NaN  \n",
       "4                   GIGABYTE       299.99         NaN  \n",
       "17                     ZOTAC       299.99         NaN  \n",
       "27                    ASRock       269.99         NaN  \n",
       "33                  GIGABYTE       329.99         NaN  \n",
       "...                      ...          ...         ...  \n",
       "3557  PNY Technologies, Inc.      1899.00         NaN  \n",
       "3559                     HPE      1899.00         NaN  \n",
       "3560                GIGABYTE       465.98         NaN  \n",
       "3561                GIGABYTE       166.99         NaN  \n",
       "3562  PNY Technologies, Inc.      1499.99         NaN  \n",
       "\n",
       "[1690 rows x 12 columns]"
      ]
     },
     "execution_count": 136,
     "metadata": {},
     "output_type": "execute_result"
    }
   ],
   "source": [
    "#Biểu diễn mối liên hệ giữa giá sản phẩm và rating của người dùng\n",
    "#rating columns need to be transformed\n",
    "data_df['new_rating'] = data_df['Rating'].str.split(' ').str[-1].astype(float)\n",
    "print(data_df['new_rating'].head(10))\n",
    "check_empty(data_df,'new_rating')"
   ]
  },
  {
   "cell_type": "markdown",
   "id": "87029f29",
   "metadata": {},
   "source": [
    "# Visualize data"
   ]
  },
  {
   "cell_type": "markdown",
   "id": "1b46558a",
   "metadata": {},
   "source": [
    "- Yêu cầu thống kê (visualize dữ liệu nếu có thể):\n",
    "    - Các hãng đang cung cấp Card đồ họa, số lượng sản phẩm của mỗi hãng.\n",
    "    - Phân bố giá của các sản phẩm (Mức giá phổ biến là bao nhiêu)\n",
    "    - Phân bố giá sản phẩm theo hãng\n",
    "    - Biểu diễn mối liên hệ giữa giá sản phẩm và rating của người dùng"
   ]
  },
  {
   "cell_type": "code",
   "execution_count": 123,
   "id": "b6557fc8",
   "metadata": {},
   "outputs": [
    {
     "name": "stdout",
     "output_type": "stream",
     "text": [
      "<class 'pandas.core.series.Series'>\n",
      "                    Brand  Count\n",
      "0                     MSI    716\n",
      "1                GIGABYTE    568\n",
      "2                    ASUS    566\n",
      "3                    EVGA    363\n",
      "4  PNY Technologies, Inc.    218\n"
     ]
    }
   ],
   "source": [
    "#Các hãng đang cung cấp Card đồ họa, số lượng sản phẩm của mỗi hãng\n",
    "brand_group = data_df.groupby('Brand')['ID'].size().sort_values(ascending=False)\n",
    "print(type(brand_group))\n",
    "\n",
    "#convert brand_group from series to DF\n",
    "brand_group_df = pd.DataFrame({'Brand':brand_group.index, 'Count':brand_group.values})\n",
    "\n",
    "sum_row = pd.DataFrame(brand_group_df['Count'].sum() , columns = ['Count'], index = ['Total'])\n",
    "sum_row['Brand'] =''\n",
    "brand_group_df = pd.concat([brand_group_df, sum_row])\n",
    "\n",
    "print(brand_group_df.head(5))\n",
    "\n",
    "#Top 5 brands are MSI, GIGABYTE and ASUS, EVGA and PNY Technologies, Inc."
   ]
  },
  {
   "cell_type": "code",
   "execution_count": 315,
   "id": "118a719b",
   "metadata": {},
   "outputs": [],
   "source": [
    "#phân bố giá của các sản phẩm (Mức giá phổ biến là bao nhiêu)\n",
    "price_id_df = data_df[['ID','Name','Brand','Price']]"
   ]
  },
  {
   "cell_type": "code",
   "execution_count": 316,
   "id": "12182062",
   "metadata": {},
   "outputs": [
    {
     "name": "stdout",
     "output_type": "stream",
     "text": [
      "           ID                                               Name  \\\n",
      "0  14-137-787  MSI Ventus GeForce RTX 4070 12GB GDDR6X PCI Ex...   \n",
      "1  14-126-594  ASUS TUF Gaming GeForce RTX 4090 OC Edition Ga...   \n",
      "2  14-930-070  ASRock Challenger D Radeon RX 6650 XT 8GB GDDR...   \n",
      "3  14-930-083  ASRock Phantom Gaming Radeon RX 7900 XT 20GB G...   \n",
      "4  14-202-394  Sapphire Pulse AMD RADEON RX 6800 GAMING GRAPH...   \n",
      "\n",
      "           Brand    Price  \n",
      "0            MSI   599.99  \n",
      "1           ASUS  1799.99  \n",
      "2         ASRock   249.99  \n",
      "3         ASRock   799.99  \n",
      "4  Sapphire Tech   499.99  \n"
     ]
    }
   ],
   "source": [
    "print(price_id_df.head())"
   ]
  },
  {
   "cell_type": "code",
   "execution_count": 118,
   "id": "b9632ea4",
   "metadata": {},
   "outputs": [
    {
     "data": {
      "image/png": "[encoded data removed]",
      "text/plain": [
       "<Figure size 640x480 with 1 Axes>"
      ]
     },
     "metadata": {},
     "output_type": "display_data"
    }
   ],
   "source": [
    "import matplotlib.pyplot as plt\n",
    "import numpy as np\n",
    "\n",
    "price_data = data_df['Price']\n",
    "\n",
    "# Create histogram\n",
    "n, bins, patches = plt.hist(price_data, bins=100, edgecolor='black')\n",
    "\n",
    "# Set the x-axis limit\n",
    "plt.xlim(0, 3000)\n",
    "\n",
    "# Set the x-axis tick positions and labels\n",
    "tick_positions = range(0, 3000, 100)\n",
    "plt.xticks(tick_positions)\n",
    "plt.xticks(rotation=60)\n",
    "\n",
    "# Add labels and title\n",
    "plt.xlabel('Price')\n",
    "plt.ylabel('Frequency')\n",
    "plt.title('Distribution of Product Prices')\n",
    "\n",
    "# Add range labels to top three bars\n",
    "top_n = 3\n",
    "top_indices = np.argsort(n)[-top_n:]  # Indices of top n bars\n",
    "for i in top_indices:\n",
    "    # Get the range of values for each bar\n",
    "    range_label = f'{bins[i]:.0f}-{bins[i + 1]:.0f}'\n",
    "    # Position the label above the bar\n",
    "    plt.text(patches[i].get_x() + patches[i].get_width() / 2, patches[i].get_height(), range_label,\n",
    "             ha='center', va='bottom')\n",
    "\n",
    "# Display the plot\n",
    "plt.show()\n",
    "\n",
    "#Top 3 price ranges are 267 - 319, 319 - 371 and 110-162 \n"
   ]
  },
  {
   "cell_type": "code",
   "execution_count": 130,
   "id": "fa873d7b",
   "metadata": {
    "collapsed": true
   },
   "outputs": [
    {
     "name": "stdout",
     "output_type": "stream",
     "text": [
      "0                Sapphire Tech\n",
      "1                          MSI\n",
      "2                        ZOTAC\n",
      "3                Sapphire Tech\n",
      "4                     GIGABYTE\n",
      "                 ...          \n",
      "3558                       MSI\n",
      "3559                       HPE\n",
      "3560                  GIGABYTE\n",
      "3561                  GIGABYTE\n",
      "3562    PNY Technologies, Inc.\n",
      "Name: new_brand, Length: 3563, dtype: object\n",
      "0        979.99\n",
      "1        354.99\n",
      "2        299.99\n",
      "3        769.99\n",
      "4        299.99\n",
      "         ...   \n",
      "3558     254.08\n",
      "3559    1899.00\n",
      "3560     415.99\n",
      "3561     117.00\n",
      "3562    1499.99\n",
      "Name: Price, Length: 3563, dtype: float64\n"
     ]
    },
    {
     "data": {
      "image/png": "[encoded data removed]",
      "text/plain": [
       "<Figure size 640x480 with 1 Axes>"
      ]
     },
     "metadata": {},
     "output_type": "display_data"
    }
   ],
   "source": [
    "#draw the scatter plot Phân bố giá sản phẩm theo hãng\n",
    "# Create scatter plot\n",
    "x = data_df['new_brand']\n",
    "y = data_df['Price']\n",
    "plt.scatter(x, y)\n",
    "plt.xticks(rotation=90,fontsize=5)\n",
    "\n",
    "print(x)\n",
    "print(y)"
   ]
  },
  {
   "cell_type": "code",
   "execution_count": 127,
   "id": "d0aa4593",
   "metadata": {
    "collapsed": true
   },
   "outputs": [
    {
     "data": {
      "text/plain": [
       "(0.0, 3000.0)"
      ]
     },
     "execution_count": 127,
     "metadata": {},
     "output_type": "execute_result"
    },
    {
     "data": {
      "image/png": "[encoded data removed]",
      "text/plain": [
       "<Figure size 640x480 with 1 Axes>"
      ]
     },
     "metadata": {},
     "output_type": "display_data"
    }
   ],
   "source": [
    "#draw the scatter plot Phân bố giá sản phẩm theo hãng\n",
    "# Create scatter plot\n",
    "\n",
    "#filter data fro selected_brand \n",
    "#Top 5 brands are MSI, GIGABYTE and ASUS, EVGA and PNY Technologies, Inc.\n",
    "selected_brand = ['GIGABYTE','MSI','ASUS','EVGA','PNY Technologies, Inc.']\n",
    "filtered_data = data_df[data_df['new_brand'].isin(selected_brand)]\n",
    "\n",
    "#create x and y varaibles from filtered_data\n",
    "x = filtered_data['new_brand']\n",
    "y = filtered_data['Price']\n",
    "\n",
    "# Create scatter plot\n",
    "plt.scatter(x, y)\n",
    "plt.xticks(rotation=60)\n",
    "\n",
    "# Set the y-axis limit\n",
    "plt.ylim(0, 3000)\n",
    "\n",
    "#Phân bố giá sản phẩm theo top 5 brands: các hãng hàng đầu đều có range sản phẩm từ giá thấp đến giá cao"
   ]
  },
  {
   "cell_type": "code",
   "execution_count": 131,
   "id": "e776d1b5",
   "metadata": {
    "collapsed": true
   },
   "outputs": [
    {
     "name": "stdout",
     "output_type": "stream",
     "text": [
      "0     Rating + 4.7\n",
      "1     Rating + 4.6\n",
      "2              NaN\n",
      "3     Rating + 4.8\n",
      "4              NaN\n",
      "5     Rating + 4.5\n",
      "6     Rating + 4.7\n",
      "7     Rating + 4.3\n",
      "8     Rating + 4.7\n",
      "9     Rating + 4.9\n",
      "10    Rating + 3.9\n",
      "11    Rating + 4.7\n",
      "12    Rating + 4.7\n",
      "13      Rating + 5\n",
      "14      Rating + 5\n",
      "15    Rating + 4.8\n",
      "16    Rating + 4.8\n",
      "17             NaN\n",
      "18    Rating + 4.5\n",
      "19      Rating + 5\n",
      "20    Rating + 4.8\n",
      "21    Rating + 3.9\n",
      "22      Rating + 5\n",
      "23    Rating + 4.9\n",
      "24    Rating + 4.3\n",
      "25    Rating + 4.3\n",
      "26    Rating + 4.3\n",
      "27             NaN\n",
      "28    Rating + 4.6\n",
      "29      Rating + 5\n",
      "Name: Rating, dtype: object\n"
     ]
    }
   ],
   "source": [
    "#Biểu diễn mối liên hệ giữa giá sản phẩm và rating của người dùng\n",
    "#rating columns need to be transformed\n",
    "rating = data_df['Rating']\n",
    "print(rating.head(30))"
   ]
  },
  {
   "cell_type": "code",
   "execution_count": 146,
   "id": "f70a4462",
   "metadata": {},
   "outputs": [
    {
     "data": {
      "text/plain": [
       "(0.0, 3000.0)"
      ]
     },
     "execution_count": 146,
     "metadata": {},
     "output_type": "execute_result"
    },
    {
     "data": {
      "image/png": "[encoded data removed]",
      "text/plain": [
       "<Figure size 640x480 with 1 Axes>"
      ]
     },
     "metadata": {},
     "output_type": "display_data"
    }
   ],
   "source": [
    "#scatter plot of price and new_rating, filtered all the NaNn number in column new_rating\n",
    "#draw the scatter plot Phân bố giá sản phẩm theo hãng\n",
    "\n",
    "# Create filtered dataframe, which filtered out the empty new_rating\n",
    "rating_price_filtered_df = data_df[data_df['new_rating'].notna()][['Price','new_rating']]\n",
    "\n",
    "#create scatter  plot\n",
    "rating_price_filtered_df = rating_price_filtered_df.dropna(axis=1, how='all')\n",
    "\n",
    "x = rating_price_filtered_df['new_rating']\n",
    "y = rating_price_filtered_df['Price']\n",
    "plt.scatter(x, y)\n",
    "plt.xticks(rotation=60)\n",
    "\n",
    "# Set the y-axis limit\n",
    "plt.ylim(0, 3000)"
   ]
  },
  {
   "cell_type": "code",
   "execution_count": 160,
   "id": "db49a5ec",
   "metadata": {},
   "outputs": [
    {
     "data": {
      "text/plain": [
       "5.0"
      ]
     },
     "execution_count": 160,
     "metadata": {},
     "output_type": "execute_result"
    }
   ],
   "source": [
    "data_df['new_rating'].min()\n",
    "data_df['new_rating'].max()"
   ]
  },
  {
   "cell_type": "code",
   "execution_count": 181,
   "id": "4ad4d277",
   "metadata": {},
   "outputs": [
    {
     "name": "stdout",
     "output_type": "stream",
     "text": [
      "['4-5', '3-4', '2-3', '1-2']\n",
      "Categories (4, object): ['1-2' < '2-3' < '3-4' < '4-5']\n"
     ]
    }
   ],
   "source": [
    "# Define the rating categories\n",
    "rating_categories = ['1-2', '2-3', '3-4', '4-5']\n",
    "\n",
    "# Categorize the 'rating' column\n",
    "data_df['rating_range'] = pd.cut(data_df['new_rating'], bins=[1, 2, 3, 4, 5], labels=rating_categories)\n",
    "\n",
    "# Handle floating-point precision\n",
    "data_df.loc[np.isclose(data_df['new_rating'], 1.0), 'rating_range'] = '1-2'\n",
    "\n",
    "# Get unique rating categories and corresponding prices\n",
    "rating_categories = rating_price_filtered_df['rating_range'].unique()\n",
    "print(rating_categories)\n"
   ]
  },
  {
   "cell_type": "code",
   "execution_count": 187,
   "id": "2aa28466",
   "metadata": {},
   "outputs": [
    {
     "data": {
      "image/png": "[encoded data removed]",
      "text/plain": [
       "<Figure size 640x480 with 1 Axes>"
      ]
     },
     "metadata": {},
     "output_type": "display_data"
    }
   ],
   "source": [
    "# Create filtered dataframe, which filtered out the empty new_rating\n",
    "rating_price_filtered_df = data_df[data_df['new_rating'].notna()][['Price','rating_range']]\n",
    "\n",
    "# Assuming you have a DataFrame called 'rating_price_filtered_df' with columns 'Price' and 'rating_range'\n",
    "import seaborn as sns\n",
    "import matplotlib.pyplot as plt\n",
    "\n",
    "# Assuming you have a DataFrame called 'rating_price_filtered_df' with columns 'Price' and 'rating_range'\n",
    "\n",
    "# Create box plot using Seaborn\n",
    "sns.boxplot(x=rating_price_filtered_df['rating_range'], y=rating_price_filtered_df['Price'])\n",
    "\n",
    "# Set labels and title\n",
    "plt.xlabel('Rating Range')\n",
    "plt.ylabel('Product Price')\n",
    "plt.title('Relationship between Price and Rating')\n",
    "\n",
    "#set the ylimit\n",
    "plt.ylim(0,5000)\n",
    "\n",
    "# Display the plot\n",
    "plt.show()\n"
   ]
  },
  {
   "cell_type": "code",
   "execution_count": null,
   "id": "c9cff8c9",
   "metadata": {},
   "outputs": [],
   "source": []
  }
 ],
 "metadata": {
  "kernelspec": {
   "display_name": "Python 3 (ipykernel)",
   "language": "python",
   "name": "python3"
  },
  "language_info": {
   "codemirror_mode": {
    "name": "ipython",
    "version": 3
   },
   "file_extension": ".py",
   "mimetype": "text/x-python",
   "name": "python",
   "nbconvert_exporter": "python",
   "pygments_lexer": "ipython3",
   "version": "3.10.9"
  }
 },
 "nbformat": 4,
 "nbformat_minor": 5
}
