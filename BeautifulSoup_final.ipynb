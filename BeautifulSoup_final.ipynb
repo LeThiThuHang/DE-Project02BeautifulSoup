{
 "cells": [
  {
   "cell_type": "markdown",
   "id": "334a2871",
   "metadata": {},
   "source": [
    "# Flow of the file: \n",
    "-- Scrape data from website and store it to the combined_data dictionary\n",
    "-- Read the dictionary to the CSV file\n",
    "-- Read data from csv file using Pandas library\n",
    "-- Exploratory analysis: metadata and detecting anomalies ( too many empty variables, duplicates, ...)\n",
    "-- Transform and clean data\n",
    "-- Visualize data "
   ]
  },
  {
   "cell_type": "code",
   "execution_count": 1,
   "id": "1b8e67e6",
   "metadata": {},
   "outputs": [],
   "source": [
    "from bs4 import BeautifulSoup\n",
    "import requests\n",
    "import csv\n",
    "import logging"
   ]
  },
  {
   "cell_type": "markdown",
   "id": "0afd9e40",
   "metadata": {},
   "source": [
    "## Scraping data from website"
   ]
  },
  {
   "cell_type": "code",
   "execution_count": 2,
   "id": "0419c30f",
   "metadata": {},
   "outputs": [],
   "source": [
    "#set the url and retrieve the content \n",
    "url_1 = 'https://www.newegg.com/GPUs-Video-Graphics-Cards/SubCategory/ID-48'\n",
    "\n",
    "#list of the url to read till page 100\n",
    "url_list = []\n",
    "for i in range(1,101):\n",
    "    url = url_1 +'/Page-'+ str(i)\n",
    "    url_list.append(url)\n"
   ]
  },
  {
   "cell_type": "code",
   "execution_count": 3,
   "id": "5efa415c",
   "metadata": {},
   "outputs": [],
   "source": [
    "#setup the log file\n",
    "logging.basicConfig(filename='logfile.log', level=logging.INFO, format='%(asctime)s - %(levelname)s - %(message)s')\n",
    "\n",
    "# Log some messages\n",
    "logging.info('This is an informational message')\n",
    "logging.warning('This is a warning message')\n",
    "logging.error('This is an error message')\n",
    "\n",
    "#setup the function to clear the log file whenever run again\n",
    "def clear_log_file():\n",
    "    with open('logfile.log' , 'w'):\n",
    "        pass"
   ]
  },
  {
   "cell_type": "code",
   "execution_count": 4,
   "id": "6e33b1f3",
   "metadata": {},
   "outputs": [],
   "source": [
    "def write_data_to_file(data_row):\n",
    "    with open('data.csv', 'a', encoding='utf-8', newline='') as csvfile:\n",
    "        csvwriter = csv.writer(csvfile)\n",
    "        csvwriter.writerow(data_row)"
   ]
  },
  {
   "cell_type": "code",
   "execution_count": 5,
   "id": "42927096",
   "metadata": {},
   "outputs": [],
   "source": [
    "#this function create the data holder for content from web\n",
    "# -- read data from url\n",
    "# -- create the data dictionary with the key\n",
    "# -- crawl neccessary data from the webpage and add value to the data dictionary corresponding to each key\n",
    "# -- if empty data, fill as empty string\n",
    "# -- log the information if reading the url successful or unsucessful\n",
    "\n",
    "def read_data(url):\n",
    "   \n",
    "    data = {}\n",
    "    keys = ['ID','Name','Brand','Rating','Number of rating', 'Price', 'Shiping','Image','Product Information','Url']\n",
    "    for key in keys:\n",
    "        data[key] = []\n",
    "    \n",
    "    response = requests.get(url)\n",
    "            \n",
    "    try:\n",
    "        #create a beaufiulsoup object to parse HTML content \n",
    "        soup = BeautifulSoup(response.content,'html.parser')\n",
    "        product_list = soup.find_all('div', class_= 'item-cell')\n",
    "\n",
    "        for product in product_list: \n",
    "            \n",
    "            #get page\n",
    "            if data['Url'] is not None:\n",
    "                data['Url'].append(url)\n",
    "            else:\n",
    "                data['Url'] = [url]\n",
    "            \n",
    "            #get ID\n",
    "            #iterate over each product and find class 'item-container'\n",
    "            item_container = product.find(class_='item-container')\n",
    "            #get the id of the item_container\n",
    "            item_id = item_container.get('id')\n",
    "            if item_id:\n",
    "                #check if dictionary already have value, then append new value. If the dictionary doesn't have value yet, start the new value\n",
    "                if data['ID'] is not None:\n",
    "                    data['ID'].append(item_id)\n",
    "                else:\n",
    "                    data['ID'] = [item_id]\n",
    "            else:\n",
    "                if data['ID']:\n",
    "                    data['ID'].append('')\n",
    "                else:\n",
    "                    data['ID'] = ['']\n",
    "                \n",
    "\n",
    "\n",
    "            #get name\n",
    "            name_class = product.find('a',class_='item-title')\n",
    "            if name_class:\n",
    "                name = name_class.text\n",
    "                if data['Name']:\n",
    "                    data['Name'].append(name)\n",
    "                else:\n",
    "                    data['Name'] = [name]\n",
    "            else:\n",
    "                if data['Name']:\n",
    "                    data['Name'].append('')\n",
    "                else:\n",
    "                    data['Name'] = ['']\n",
    "                \n",
    "\n",
    "\n",
    "            #get brand\n",
    "            brand_class = product.find('a', class_='item-brand')\n",
    "            #some products doesn't have brand container so check if the brand containder exist or not\n",
    "            if brand_class:\n",
    "                 #check if dictionary already have value, then append new value. If the dictionary doesn't have value yet, start the new value\n",
    "                brand = brand_class.find('img').get('title')\n",
    "                if data['Brand']:\n",
    "                    data['Brand'].append(brand)\n",
    "                else:\n",
    "                    data['Brand'] =  [brand]\n",
    "            else:                   \n",
    "                if data['Brand']:\n",
    "                    data['Brand'].append('')\n",
    "                else:\n",
    "                    data['Brand'] =  ['']\n",
    "\n",
    "            #get rating\n",
    "            rating_class = product.find('a', class_='item-rating')\n",
    "            #some products doesn't have RATING so check if the brand containder exist or not\n",
    "            if rating_class:\n",
    "                rating = rating_class.get('title')\n",
    "                #check if dictionary already have value, then append new value. If the dictionary doesn't have value yet, start the new value\n",
    "                if data['Rating']:\n",
    "                    data['Rating'].append(rating)\n",
    "                else:\n",
    "                    data['Rating'] = [rating]\n",
    "\n",
    "            else:\n",
    "                if data['Rating']:\n",
    "                    data['Rating'].append('')\n",
    "                else:\n",
    "                    data['Rating'] = ['']\n",
    "\n",
    "\n",
    "            #get number of rating\n",
    "            number_rating = product.find('a', class_='item-rating')\n",
    "            #some products doesn't have number_rating so check if the brand container exist or not\n",
    "            if number_rating is not None: \n",
    "                item_rating = number_rating.text[1:-1]\n",
    "                #check if dictionary already have value, then append new value. If the dictionary doesn't have value yet, start the new value\n",
    "                if data['Number of rating'] is not None:\n",
    "                    data['Number of rating'].append(item_rating)\n",
    "                else:\n",
    "                    data['Number of rating'] = ['']\n",
    "            else:\n",
    "                if data['Number of rating'] is not None:\n",
    "                    data['Number of rating'].append('')\n",
    "                else:\n",
    "                    data['Number of rating'] = ['']\n",
    "\n",
    "            #find price \n",
    "                #read the integer part\n",
    "            if product.select_one('.price-current strong') is not None:\n",
    "                current_price_rating = product.select_one('.price-current strong').text.replace(',','')\n",
    "            else:\n",
    "                current_price_rating = ''\n",
    "                #read the decimal\n",
    "            if product.select_one('.price-current sup') is not None:\n",
    "                current_price_decimal_rating = product.select_one('.price-current sup').text.replace('.','')\n",
    "            else:\n",
    "                current_price_decimal_rating = ''\n",
    "            \n",
    "                #combine the integer and decimal \n",
    "            if current_price_rating != '':\n",
    "                price = int(current_price_decimal_rating)/100+ int(current_price_rating)\n",
    "            else: \n",
    "                price = ''\n",
    "            \n",
    "                #append the price\n",
    "            if data['Price']:\n",
    "                data['Price'].append(price)\n",
    "            else:\n",
    "                data['Price'] = [price] \n",
    "\n",
    "            #find shipping\n",
    "            shipping = product.find(class_='price-ship')\n",
    "            shipping_type = shipping.text\n",
    "            #check if dictionary already have value, then append new value. If the dictionary doesn't have value yet, start the new value\n",
    "            if data['Shiping'] is not None:\n",
    "                data['Shiping'].append(shipping_type)\n",
    "            else:\n",
    "                data['Shiping'] = [''] \n",
    "\n",
    "            #find image url \n",
    "            image_url = product.find(class_='item-img')\n",
    "            image = image_url.get('href')\n",
    "            #check if dictionary already have value, then append new value. If the dictionary doesn't have value yet, start the new value\n",
    "            if data['Image'] is not None:\n",
    "                data['Image'].append(image)\n",
    "            else:\n",
    "                data['Image'] = ['']\n",
    "\n",
    "            #product information\n",
    "            product_infor = product.find(class_='item-features')\n",
    "            product_dict = []\n",
    "            \n",
    "            if product_infor:\n",
    "                for feature in product_infor.find_all('li'):\n",
    "                    feature = feature.get_text(strip=True).split(\":\")\n",
    "                    feature_name = feature[0]\n",
    "                    feature_value=feature[1]\n",
    "                    feature_dict = {feature_name:feature_value}\n",
    "                    product_dict.append(feature_dict)\n",
    "                #check if dictionary already have value, then append new value. If the dictionary doesn't have value yet, start the new value\n",
    "                if data['Product Information'] is not None: \n",
    "                    data['Product Information'].append(product_dict)\n",
    "                else:\n",
    "                    data['Product Information'] = [product_dict]      \n",
    "            else:\n",
    "                if data['Product Information']: \n",
    "                    data['Product Information'].append('')\n",
    "                else:\n",
    "                    data['Product Information'] = ['']\n",
    "    \n",
    "        logging.info(f'File {url} reading successful')\n",
    "        return data\n",
    "        \n",
    "    \n",
    "    # Handle other exceptions\n",
    "    except Exception as e:\n",
    "        print(e)\n",
    "        logging.error(f'An exception occurred: {str(e)} at {url}')\n",
    "        \n"
   ]
  },
  {
   "cell_type": "code",
   "execution_count": 6,
   "id": "a174c763",
   "metadata": {},
   "outputs": [
    {
     "name": "stdout",
     "output_type": "stream",
     "text": [
      "100\n"
     ]
    }
   ],
   "source": [
    "#READ THE DATA into the combined_data\n",
    "table = []\n",
    "\n",
    "#read each link into a dictionary, append dictionary to the table list\n",
    "#table = [{data1 from url1}, {data2 from url2},...]\n",
    "\n",
    "#clear the exisitng information from log file\n",
    "clear_log_file()\n",
    "\n",
    "for link in url_list:\n",
    "    #read_data() return a dictionary with the format {'name of coumn': [val1, val2, ...]}\n",
    "    data = read_data(link)\n",
    "    table.append(data)\n",
    "\n",
    "print(len(table))\n",
    "\n",
    "combined_data = {}\n",
    "\n",
    "for dictionary in table:\n",
    "    for key, value in dictionary.items():\n",
    "        #if the key is not found yet in the combined_data, it will take the first value \n",
    "        #if they key already exists, it will add into the value\n",
    "        if key in combined_data:\n",
    "            combined_data[key].extend(value)\n",
    "        else:\n",
    "            combined_data[key] = value"
   ]
  },
  {
   "cell_type": "code",
   "execution_count": 7,
   "id": "7a9c0bbf",
   "metadata": {
    "scrolled": true
   },
   "outputs": [
    {
     "name": "stdout",
     "output_type": "stream",
     "text": [
      "Key: ID, Value Type: list has 3603 values\n",
      "Key: Name, Value Type: list has 3603 values\n",
      "Key: Brand, Value Type: list has 3603 values\n",
      "Key: Rating, Value Type: list has 3603 values\n",
      "Key: Number of rating, Value Type: list has 3603 values\n",
      "Key: Price, Value Type: list has 3603 values\n",
      "Key: Shiping, Value Type: list has 3603 values\n",
      "Key: Image, Value Type: list has 3603 values\n",
      "Key: Product Information, Value Type: list has 3603 values\n",
      "Key: Url, Value Type: list has 3603 values\n",
      "length of the dictionary is:  10\n"
     ]
    }
   ],
   "source": [
    "for key, value in combined_data.items():\n",
    "    value_type = type(value).__name__\n",
    "    print(f\"Key: {key}, Value Type: {value_type} has {len(value)} values\")\n",
    "print('length of the dictionary is: ', len(combined_data))"
   ]
  },
  {
   "cell_type": "markdown",
   "id": "a223168a",
   "metadata": {},
   "source": [
    "## Read the dictionary to the CSV file"
   ]
  },
  {
   "cell_type": "code",
   "execution_count": 9,
   "id": "0854db8f",
   "metadata": {},
   "outputs": [
    {
     "name": "stdout",
     "output_type": "stream",
     "text": [
      "CSV file has been created\n"
     ]
    }
   ],
   "source": [
    "#open a csv in write mode and create a csv.writer ojbect\n",
    "with open('newegg_products.csv', 'w',newline='', encoding='utf-8') as csvfile:\n",
    "    writer = csv.writer(csvfile)\n",
    "    \n",
    "    #write the header row with the keys\n",
    "    writer.writerow(combined_data.keys())\n",
    "    \n",
    "    #write the values row by row\n",
    "    rows = zip(*combined_data.values())\n",
    "    writer.writerows(rows)\n",
    "           \n",
    "    print(\"CSV file has been created\")\n",
    "    "
   ]
  },
  {
   "cell_type": "markdown",
   "id": "150e3b57",
   "metadata": {},
   "source": [
    "## Read data from csv file using Pandas library "
   ]
  },
  {
   "cell_type": "code",
   "execution_count": 10,
   "id": "776f2171",
   "metadata": {},
   "outputs": [],
   "source": [
    "import pandas as pd"
   ]
  },
  {
   "cell_type": "code",
   "execution_count": 11,
   "id": "7ed3a593",
   "metadata": {},
   "outputs": [],
   "source": [
    "file = 'newegg_products.csv'\n",
    "data_df = pd.read_csv(file)"
   ]
  },
  {
   "cell_type": "code",
   "execution_count": 12,
   "id": "cb82a2a7",
   "metadata": {},
   "outputs": [
    {
     "data": {
      "text/html": [
       "<div>\n",
       "<style scoped>\n",
       "    .dataframe tbody tr th:only-of-type {\n",
       "        vertical-align: middle;\n",
       "    }\n",
       "\n",
       "    .dataframe tbody tr th {\n",
       "        vertical-align: top;\n",
       "    }\n",
       "\n",
       "    .dataframe thead th {\n",
       "        text-align: right;\n",
       "    }\n",
       "</style>\n",
       "<table border=\"1\" class=\"dataframe\">\n",
       "  <thead>\n",
       "    <tr style=\"text-align: right;\">\n",
       "      <th></th>\n",
       "      <th>Number of rating</th>\n",
       "      <th>Price</th>\n",
       "    </tr>\n",
       "  </thead>\n",
       "  <tbody>\n",
       "    <tr>\n",
       "      <th>count</th>\n",
       "      <td>1999.000000</td>\n",
       "      <td>3498.000000</td>\n",
       "    </tr>\n",
       "    <tr>\n",
       "      <th>mean</th>\n",
       "      <td>40.104052</td>\n",
       "      <td>552.484345</td>\n",
       "    </tr>\n",
       "    <tr>\n",
       "      <th>std</th>\n",
       "      <td>68.266958</td>\n",
       "      <td>567.993744</td>\n",
       "    </tr>\n",
       "    <tr>\n",
       "      <th>min</th>\n",
       "      <td>1.000000</td>\n",
       "      <td>9.990000</td>\n",
       "    </tr>\n",
       "    <tr>\n",
       "      <th>25%</th>\n",
       "      <td>3.000000</td>\n",
       "      <td>205.250000</td>\n",
       "    </tr>\n",
       "    <tr>\n",
       "      <th>50%</th>\n",
       "      <td>15.000000</td>\n",
       "      <td>379.000000</td>\n",
       "    </tr>\n",
       "    <tr>\n",
       "      <th>75%</th>\n",
       "      <td>49.000000</td>\n",
       "      <td>669.972500</td>\n",
       "    </tr>\n",
       "    <tr>\n",
       "      <th>max</th>\n",
       "      <td>891.000000</td>\n",
       "      <td>7985.800000</td>\n",
       "    </tr>\n",
       "  </tbody>\n",
       "</table>\n",
       "</div>"
      ],
      "text/plain": [
       "       Number of rating        Price\n",
       "count       1999.000000  3498.000000\n",
       "mean          40.104052   552.484345\n",
       "std           68.266958   567.993744\n",
       "min            1.000000     9.990000\n",
       "25%            3.000000   205.250000\n",
       "50%           15.000000   379.000000\n",
       "75%           49.000000   669.972500\n",
       "max          891.000000  7985.800000"
      ]
     },
     "execution_count": 12,
     "metadata": {},
     "output_type": "execute_result"
    }
   ],
   "source": [
    "data_df.describe()"
   ]
  },
  {
   "cell_type": "markdown",
   "id": "50d228a8",
   "metadata": {},
   "source": [
    "## Exploratory analysis: metadata and detecting anomalies ( too many empty variables, duplicates, ...)"
   ]
  },
  {
   "cell_type": "code",
   "execution_count": 13,
   "id": "7bac5afb",
   "metadata": {},
   "outputs": [],
   "source": [
    "%run CommonFunction.ipynb"
   ]
  },
  {
   "cell_type": "code",
   "execution_count": 14,
   "id": "f5f37cc1",
   "metadata": {},
   "outputs": [
    {
     "name": "stdout",
     "output_type": "stream",
     "text": [
      "The table has 3603 rows\n",
      "The table has 10 cols\n"
     ]
    }
   ],
   "source": [
    "table_shape(data_df)"
   ]
  },
  {
   "cell_type": "code",
   "execution_count": 15,
   "id": "64f6fba7",
   "metadata": {},
   "outputs": [
    {
     "name": "stdout",
     "output_type": "stream",
     "text": [
      "Index(['ID', 'Name', 'Brand', 'Rating', 'Number of rating', 'Price', 'Shiping',\n",
      "       'Image', 'Product Information', 'Url'],\n",
      "      dtype='object')\n",
      "ID                      object\n",
      "Name                    object\n",
      "Brand                   object\n",
      "Rating                  object\n",
      "Number of rating       float64\n",
      "Price                  float64\n",
      "Shiping                 object\n",
      "Image                   object\n",
      "Product Information     object\n",
      "Url                     object\n",
      "dtype: object\n"
     ]
    }
   ],
   "source": [
    "#what are the names and types of each column\n",
    "col(data_df)"
   ]
  },
  {
   "cell_type": "code",
   "execution_count": 16,
   "id": "8f814e0d",
   "metadata": {},
   "outputs": [
    {
     "name": "stdout",
     "output_type": "stream",
     "text": [
      "There are 14 empty cells in the ID column\n",
      "There are 1 empty cells in the Name column\n",
      "There are 118 empty cells in the Brand column\n",
      "There are 1604 empty cells in the Rating column\n",
      "There are 1604 empty cells in the Number of rating column\n",
      "There are 105 empty cells in the Price column\n",
      "There are 14 empty cells in the Shiping column\n",
      "There is no empty cell in  Image column\n",
      "There are 14 empty cells in the Product Information column\n",
      "There is no empty cell in  Url column\n"
     ]
    }
   ],
   "source": [
    "cols = data_df.columns\n",
    "for col in cols: \n",
    "    check_empty(data_df,col)"
   ]
  },
  {
   "cell_type": "code",
   "execution_count": 17,
   "id": "7f4bd137",
   "metadata": {
    "collapsed": true
   },
   "outputs": [
    {
     "name": "stdout",
     "output_type": "stream",
     "text": [
      "       ID                                               Name Brand Rating  \\\n",
      "2780  NaN  GIGABYTE Gaming GeForce RTX 4090 Video Card GV...   NaN    NaN   \n",
      "2781  NaN  GIGABYTE Gaming OC Radeon RX 6750 XT Video Car...   NaN    NaN   \n",
      "2782  NaN  GIGABYTE Gaming OC Radeon RX 6750 XT Video Car...   NaN    NaN   \n",
      "2783  NaN  GIGABYTE Gaming OC Radeon RX 6750 XT Video Car...   NaN    NaN   \n",
      "2784  NaN  GIGABYTE Gaming GeForce RTX 4090 Video Card GV...   NaN    NaN   \n",
      "2785  NaN  GIGABYTE Gaming GeForce RTX 4090 Video Card GV...   NaN    NaN   \n",
      "2786  NaN  GIGABYTE Gaming OC Radeon RX 6750 XT Video Car...   NaN    NaN   \n",
      "2787  NaN  Intel Core i5-12600K - Core i5 12th Gen Alder ...   NaN    NaN   \n",
      "2788  NaN  GIGABYTE Gaming GeForce RTX 4090 Video Card GV...   NaN    NaN   \n",
      "2789  NaN  Intel Core i7-12700K - Core i7 12th Gen Alder ...   NaN    NaN   \n",
      "2790  NaN  GIGABYTE Gaming OC Radeon RX 6750 XT Video Car...   NaN    NaN   \n",
      "2791  NaN  GIGABYTE Gaming GeForce RTX 4090 Video Card GV...   NaN    NaN   \n",
      "2792  NaN  GIGABYTE Gaming OC Radeon RX 6750 XT Video Car...   NaN    NaN   \n",
      "2793  NaN  GIGABYTE Gaming GeForce RTX 4090 Video Card GV...   NaN    NaN   \n",
      "\n",
      "      Number of rating    Price Shiping  \\\n",
      "2780               NaN  1978.99     NaN   \n",
      "2781               NaN   669.98     NaN   \n",
      "2782               NaN   799.98     NaN   \n",
      "2783               NaN   674.98     NaN   \n",
      "2784               NaN  3178.00     NaN   \n",
      "2785               NaN  1983.99     NaN   \n",
      "2786               NaN  1374.98     NaN   \n",
      "2787               NaN   389.98     NaN   \n",
      "2788               NaN  1928.99     NaN   \n",
      "2789               NaN   444.98     NaN   \n",
      "2790               NaN  1868.99     NaN   \n",
      "2791               NaN  2108.99     NaN   \n",
      "2792               NaN   619.98     NaN   \n",
      "2793               NaN  2683.99     NaN   \n",
      "\n",
      "                                                  Image Product Information  \\\n",
      "2780  https://www.newegg.com/Product/ComboDealDetail...                 NaN   \n",
      "2781  https://www.newegg.com/Product/ComboDealDetail...                 NaN   \n",
      "2782  https://www.newegg.com/Product/ComboDealDetail...                 NaN   \n",
      "2783  https://www.newegg.com/Product/ComboDealDetail...                 NaN   \n",
      "2784  https://www.newegg.com/Product/ComboDealDetail...                 NaN   \n",
      "2785  https://www.newegg.com/Product/ComboDealDetail...                 NaN   \n",
      "2786  https://www.newegg.com/Product/ComboDealDetail...                 NaN   \n",
      "2787  https://www.newegg.com/Product/ComboDealDetail...                 NaN   \n",
      "2788  https://www.newegg.com/Product/ComboDealDetail...                 NaN   \n",
      "2789  https://www.newegg.com/Product/ComboDealDetail...                 NaN   \n",
      "2790  https://www.newegg.com/Product/ComboDealDetail...                 NaN   \n",
      "2791  https://www.newegg.com/Product/ComboDealDetail...                 NaN   \n",
      "2792  https://www.newegg.com/Product/ComboDealDetail...                 NaN   \n",
      "2793  https://www.newegg.com/Product/ComboDealDetail...                 NaN   \n",
      "\n",
      "                                                    Url  \n",
      "2780  https://www.newegg.com/GPUs-Video-Graphics-Car...  \n",
      "2781  https://www.newegg.com/GPUs-Video-Graphics-Car...  \n",
      "2782  https://www.newegg.com/GPUs-Video-Graphics-Car...  \n",
      "2783  https://www.newegg.com/GPUs-Video-Graphics-Car...  \n",
      "2784  https://www.newegg.com/GPUs-Video-Graphics-Car...  \n",
      "2785  https://www.newegg.com/GPUs-Video-Graphics-Car...  \n",
      "2786  https://www.newegg.com/GPUs-Video-Graphics-Car...  \n",
      "2787  https://www.newegg.com/GPUs-Video-Graphics-Car...  \n",
      "2788  https://www.newegg.com/GPUs-Video-Graphics-Car...  \n",
      "2789  https://www.newegg.com/GPUs-Video-Graphics-Car...  \n",
      "2790  https://www.newegg.com/GPUs-Video-Graphics-Car...  \n",
      "2791  https://www.newegg.com/GPUs-Video-Graphics-Car...  \n",
      "2792  https://www.newegg.com/GPUs-Video-Graphics-Car...  \n",
      "2793  https://www.newegg.com/GPUs-Video-Graphics-Car...  \n"
     ]
    }
   ],
   "source": [
    "#check empty rows in ID\n",
    "empty_rows = data_df[data_df['ID'].isnull()]\n",
    "print(empty_rows)"
   ]
  },
  {
   "cell_type": "markdown",
   "id": "10bd2e69",
   "metadata": {},
   "source": [
    "The empty IDs are in page 77, ( combo savings, do not have ID in the container)"
   ]
  },
  {
   "cell_type": "code",
   "execution_count": 18,
   "id": "dc12b931",
   "metadata": {
    "collapsed": true
   },
   "outputs": [
    {
     "name": "stdout",
     "output_type": "stream",
     "text": [
      "                  ID                                               Name Brand  \\\n",
      "156       14-993-001  SPARKLE Intel Arc A750 TITAN OC Edition, 8GB G...   NaN   \n",
      "158       14-993-003  SPARKLE Intel Arc A380 ELF, 6GB GDDR6, Single ...   NaN   \n",
      "166       14-993-002  SPARKLE Intel Arc A750 ORC OC Edition, 8GB GDD...   NaN   \n",
      "378   9SIB1PGG1Y2678  EVGA GeForce RTX 3090 XC3 ULTRA GAMING Video C...   NaN   \n",
      "591   9SIARXHF4P3205  MQX GeForce GT 730 4GB DDR3 PCI Express 2.0 X1...   NaN   \n",
      "...              ...                                                ...   ...   \n",
      "3578  9SIAG20JZW9123  Refurbished Genuine ATI Radeon HD 3450 256MB 6...   NaN   \n",
      "3590  9SIAG20JYS7718  Refurbished Genuine ATI Radeon X1300 102A62903...   NaN   \n",
      "3595  9SIAG20JZ60888  Refurbished For Dell AMD-Radeon HD 8490 1GB DD...   NaN   \n",
      "3598  9SIAG20JYS7517  Refurbished ATI FirePro 3D Graphics V5800 1GB ...   NaN   \n",
      "3600  9SIAG20JYS7525  Refurbished ATI FirePro V5800 1GB GDDR5 PCI-E ...   NaN   \n",
      "\n",
      "     Rating  Number of rating    Price        Shiping  \\\n",
      "156     NaN               NaN   259.99  Free Shipping   \n",
      "158     NaN               NaN   139.99  Free Shipping   \n",
      "166     NaN               NaN   239.99  Free Shipping   \n",
      "378     NaN               NaN  1699.00  Free Shipping   \n",
      "591     NaN               NaN    69.99  Free Shipping   \n",
      "...     ...               ...      ...            ...   \n",
      "3578    NaN               NaN    58.00  Free Shipping   \n",
      "3590    NaN               NaN    37.60  Free Shipping   \n",
      "3595    NaN               NaN    52.90  Free Shipping   \n",
      "3598    NaN               NaN    89.99  Free Shipping   \n",
      "3600    NaN               NaN    78.00  Free Shipping   \n",
      "\n",
      "                                                  Image  \\\n",
      "156   https://www.newegg.com/sparkle-arc-a750-sa750t...   \n",
      "158   https://www.newegg.com/sparkle-arc-a380-sa380e...   \n",
      "166   https://www.newegg.com/sparkle-arc-a750-sa750c...   \n",
      "378             https://www.newegg.com/p/1DW-00EW-00009   \n",
      "591             https://www.newegg.com/p/1FT-00AS-00009   \n",
      "...                                                 ...   \n",
      "3578  https://www.newegg.com/ati-radeon-hd-3450/p/27...   \n",
      "3590  https://www.newegg.com/dell-ati-radeon-x600-se...   \n",
      "3595            https://www.newegg.com/p/27N-007G-00015   \n",
      "3598            https://www.newegg.com/p/1VK-00KK-00002   \n",
      "3600            https://www.newegg.com/p/27N-0001-00012   \n",
      "\n",
      "                                    Product Information  \\\n",
      "156   [{'Max Resolution': '7680 x 4320'}, {'DisplayP...   \n",
      "158   [{'Core Clock': '2000 MHz'}, {'Max Resolution'...   \n",
      "166   [{'Max Resolution': '7680 x 4320'}, {'DisplayP...   \n",
      "378   [{'Model #': '6556'}, {'Item #': '9SIB1PGG1Y26...   \n",
      "591   [{'Chipset Manufacturer': 'NVIDIA'}, {'GPU Ser...   \n",
      "...                                                 ...   \n",
      "3578  [{'Model #': 'Y104D_2'}, {'Return Policy': 'Vi...   \n",
      "3590  [{'Chipset Manufacturer': 'AMD'}, {'Model #': ...   \n",
      "3595  [{'Model #': 'BEH0A974ZC'}, {'Return Policy': ...   \n",
      "3598  [{'Model #': '6RN0Y'}, {'Return Policy': 'View...   \n",
      "3600  [{'Model #': '608888-001'}, {'Return Policy': ...   \n",
      "\n",
      "                                                    Url  \n",
      "156   https://www.newegg.com/GPUs-Video-Graphics-Car...  \n",
      "158   https://www.newegg.com/GPUs-Video-Graphics-Car...  \n",
      "166   https://www.newegg.com/GPUs-Video-Graphics-Car...  \n",
      "378   https://www.newegg.com/GPUs-Video-Graphics-Car...  \n",
      "591   https://www.newegg.com/GPUs-Video-Graphics-Car...  \n",
      "...                                                 ...  \n",
      "3578  https://www.newegg.com/GPUs-Video-Graphics-Car...  \n",
      "3590  https://www.newegg.com/GPUs-Video-Graphics-Car...  \n",
      "3595  https://www.newegg.com/GPUs-Video-Graphics-Car...  \n",
      "3598  https://www.newegg.com/GPUs-Video-Graphics-Car...  \n",
      "3600  https://www.newegg.com/GPUs-Video-Graphics-Car...  \n",
      "\n",
      "[118 rows x 10 columns]\n"
     ]
    }
   ],
   "source": [
    "#check empty rows in brand\n",
    "empty_rows = data_df[data_df['Brand'].isnull()]\n",
    "print(empty_rows)"
   ]
  },
  {
   "cell_type": "code",
   "execution_count": 19,
   "id": "c9b830ce",
   "metadata": {
    "collapsed": true
   },
   "outputs": [
    {
     "name": "stdout",
     "output_type": "stream",
     "text": [
      "                  ID                                               Name  \\\n",
      "12        14-137-801  MSI Mech Radeon RX 6750 XT 12GB GDDR6 PCI Expr...   \n",
      "34        14-137-768  MSI Ventus GeForce RTX 4080 16GB GDDR6X PCI Ex...   \n",
      "35        14-932-630  GIGABYTE GeForce RTX 4060 WINDFORCE OC 8G Grap...   \n",
      "68        14-500-559  ZOTAC GAMING GeForce RTX 4060 8GB OC Spider-Ma...   \n",
      "76        14-932-627  GIGABYTE GeForce RTX 4060 AERO OC 8G Graphics ...   \n",
      "...              ...                                                ...   \n",
      "3598  9SIAG20JYS7517  Refurbished ATI FirePro 3D Graphics V5800 1GB ...   \n",
      "3599  9SIAG20JYS7916  Refurbished Dell AMD Radeon HD 6350 512MB DDR3...   \n",
      "3600  9SIAG20JYS7525  Refurbished ATI FirePro V5800 1GB GDDR5 PCI-E ...   \n",
      "3601  9SIA639JYM8965  Refurbished MSI GeForce GTX 1070 8GB GDDR5 PCI...   \n",
      "3602  9SIAG20JGU2053  Refurbished DELL 0R784K Quadro FX 580 512MB 12...   \n",
      "\n",
      "         Brand Rating  Number of rating    Price        Shiping  \\\n",
      "12         MSI    NaN               NaN   369.99  Free Shipping   \n",
      "34         MSI    NaN               NaN  1189.99  Free Shipping   \n",
      "35    GIGABYTE    NaN               NaN   299.99  Free Shipping   \n",
      "68       ZOTAC    NaN               NaN   299.99  Free Shipping   \n",
      "76    GIGABYTE    NaN               NaN   329.99  Free Shipping   \n",
      "...        ...    ...               ...      ...            ...   \n",
      "3598       NaN    NaN               NaN    89.99  Free Shipping   \n",
      "3599      DELL    NaN               NaN    43.00  Free Shipping   \n",
      "3600       NaN    NaN               NaN    78.00  Free Shipping   \n",
      "3601       MSI    NaN               NaN   204.28  Free Shipping   \n",
      "3602      DELL    NaN               NaN    61.00  Free Shipping   \n",
      "\n",
      "                                                  Image  \\\n",
      "12    https://www.newegg.com/msi-radeon-rx-6750-xt-r...   \n",
      "34    https://www.newegg.com/msi-geforce-rtx-4080-rt...   \n",
      "35    https://www.newegg.com/gigabyte-geforce-rtx-40...   \n",
      "68    https://www.newegg.com/asus-geforce-rtx-4060-d...   \n",
      "76    https://www.newegg.com/gigabyte-geforce-rtx-40...   \n",
      "...                                                 ...   \n",
      "3598            https://www.newegg.com/p/1VK-00KK-00002   \n",
      "3599  https://www.newegg.com/dell-236x5/p/27N-001D-0...   \n",
      "3600            https://www.newegg.com/p/27N-0001-00012   \n",
      "3601  https://www.newegg.com/msi-geforce-gtx-1070-gt...   \n",
      "3602  https://www.newegg.com/dell-quadro-fx-580-0r78...   \n",
      "\n",
      "                                    Product Information  \\\n",
      "12    [{'Max Resolution': '7680 x 4320'}, {'DisplayP...   \n",
      "34    [{'Max Resolution': '7680 x 4320'}, {'DisplayP...   \n",
      "35    [{'Max Resolution': '7680 x 4320'}, {'DisplayP...   \n",
      "68    [{'Max Resolution': '7680 x 4320'}, {'DisplayP...   \n",
      "76    [{'Max Resolution': '7680 x 4320'}, {'DisplayP...   \n",
      "...                                                 ...   \n",
      "3598  [{'Model #': '6RN0Y'}, {'Return Policy': 'View...   \n",
      "3599  [{'Model #': '236X5'}, {'Return Policy': 'View...   \n",
      "3600  [{'Model #': '608888-001'}, {'Return Policy': ...   \n",
      "3601  [{'Core Clock': '1531 MHz'}, {'Max Resolution'...   \n",
      "3602  [{'Max Resolution': '2560 x 1600'}, {'DisplayP...   \n",
      "\n",
      "                                                    Url  \n",
      "12    https://www.newegg.com/GPUs-Video-Graphics-Car...  \n",
      "34    https://www.newegg.com/GPUs-Video-Graphics-Car...  \n",
      "35    https://www.newegg.com/GPUs-Video-Graphics-Car...  \n",
      "68    https://www.newegg.com/GPUs-Video-Graphics-Car...  \n",
      "76    https://www.newegg.com/GPUs-Video-Graphics-Car...  \n",
      "...                                                 ...  \n",
      "3598  https://www.newegg.com/GPUs-Video-Graphics-Car...  \n",
      "3599  https://www.newegg.com/GPUs-Video-Graphics-Car...  \n",
      "3600  https://www.newegg.com/GPUs-Video-Graphics-Car...  \n",
      "3601  https://www.newegg.com/GPUs-Video-Graphics-Car...  \n",
      "3602  https://www.newegg.com/GPUs-Video-Graphics-Car...  \n",
      "\n",
      "[1604 rows x 10 columns]\n"
     ]
    }
   ],
   "source": [
    "#check empty rows in Rating and Number of Rating\n",
    "empty_rows = data_df[data_df['Rating'].isnull()]\n",
    "print(empty_rows)\n",
    "\n",
    "#CHECK THE EMPTY ROWS IN RATING AND NUMBER OF RATING, there are actually there is no information"
   ]
  },
  {
   "cell_type": "code",
   "execution_count": 30,
   "id": "54115666",
   "metadata": {
    "scrolled": true
   },
   "outputs": [
    {
     "name": "stdout",
     "output_type": "stream",
     "text": [
      "                  ID                                               Name  \\\n",
      "4     9SIAFVFJV49639  ASUS ROG Strix GeForce RTX 4090 White OC Editi...   \n",
      "7     9SIAZUEFY85385  Yeston Radeon RX 6800 XT 16GB D6 GDDR6 256bit ...   \n",
      "23    9SIAZUEFE85514  Yeston RTX 3060 Ti 8GB GDDR6 LHR Graphics card...   \n",
      "45    9SIAZUEHWN8323  Yeston RTX 3070 8GB GDDR6 256bit LHR Graphics ...   \n",
      "60    9SIAZUEHCK6637  Yeston RTX 3060 12GB GDDR6 LHR Graphics cards ...   \n",
      "...              ...                                                ...   \n",
      "2604  9SIBGFDJJX4768  MSI Ventus GeForce RTX 3070 Ti 8GB GDDR6X PCI ...   \n",
      "2611  9SIBBN9JKC4332  GIGABYTE GeForce GTX 1650 4GB GDDR5 PCI Expres...   \n",
      "2678  9SIAYE8JSJ9113  EVGA 06G-P4-1068-KR GeForce GTX 1660 Super Sc ...   \n",
      "2759  9SIBDCAJGV9765  INNO3D GEFORCE RTX 4070 Ti X3 2610MHz/29.7cm t...   \n",
      "2764  9SIAXK8JPY7470  GEFORCE GT 710 2GB Video Graphics Card GPU, Su...   \n",
      "\n",
      "         Brand        Rating  Number of rating    Price          Shiping  \\\n",
      "4         ASUS  Rating + 4.9              10.0  2159.99    Free Shipping   \n",
      "7       yeston  Rating + 4.1              15.0   579.00    Free Shipping   \n",
      "23      yeston    Rating + 5               3.0   399.00    Free Shipping   \n",
      "45      yeston  Rating + 4.2               9.0   459.00    Free Shipping   \n",
      "60      yeston  Rating + 4.5               4.0   299.00    Free Shipping   \n",
      "...        ...           ...               ...      ...              ...   \n",
      "2604       MSI           NaN               NaN   693.99  $46.00 Shipping   \n",
      "2611  GIGABYTE           NaN               NaN   289.65    Free Shipping   \n",
      "2678      EVGA           NaN               NaN   344.96    Free Shipping   \n",
      "2759    Inno3D           NaN               NaN  1399.00    Free Shipping   \n",
      "2764    MAXSUN           NaN               NaN   148.70    Free Shipping   \n",
      "\n",
      "                                                  Image  \\\n",
      "4     https://www.newegg.com/asus-geforce-rtx-4090-r...   \n",
      "7     https://www.newegg.com/yeston-radeon-rx-6800-x...   \n",
      "23    https://www.newegg.com/yeston-geforce-gtx-1050...   \n",
      "45    https://www.newegg.com/yeston-geforce-rtx-3080...   \n",
      "60    https://www.newegg.com/yeston-geforce-rtx-3060...   \n",
      "...                                                 ...   \n",
      "2604            https://www.newegg.com/p/1FT-0009-006C2   \n",
      "2611            https://www.newegg.com/p/1FT-000A-005E2   \n",
      "2678  https://www.newegg.com/evga-06g-p4-1068-kr/p/1...   \n",
      "2759            https://www.newegg.com/p/1FT-000N-001N5   \n",
      "2764            https://www.newegg.com/p/1FT-009J-00090   \n",
      "\n",
      "                                    Product Information  \\\n",
      "4     [{'Max Resolution': '7680 x 4320'}, {'DisplayP...   \n",
      "7     [{'Max Resolution': '7680 x 4320'}, {'DisplayP...   \n",
      "23    [{'Core Clock': '1410 MHz'}, {'DirectX': 'Dire...   \n",
      "45    [{'Core Clock': '1500 MHz'}, {'DisplayPort': '...   \n",
      "60    [{'Core Clock': '1320MHz'}, {'Max Resolution':...   \n",
      "...                                                 ...   \n",
      "2604  [{'Model #': 'RTX 3070 TIVENTUSOC1'}, {'Return...   \n",
      "2611  [{'Model #': 'GV-N1650OC-4GL--'}, {'Item #': '...   \n",
      "2678  [{'Model #': 'E06G-P4-1068-KR'}, {'Item #': '9...   \n",
      "2759  [{'Model #': 'INNO3D GEFORCE RTX 4070 Ti X3'},...   \n",
      "2764  [{'Model #': 'CA-SHWS269'}, {'Item #': '9SIAXK...   \n",
      "\n",
      "                                                    Url  \n",
      "4     https://www.newegg.com/GPUs-Video-Graphics-Car...  \n",
      "7     https://www.newegg.com/GPUs-Video-Graphics-Car...  \n",
      "23    https://www.newegg.com/GPUs-Video-Graphics-Car...  \n",
      "45    https://www.newegg.com/GPUs-Video-Graphics-Car...  \n",
      "60    https://www.newegg.com/GPUs-Video-Graphics-Car...  \n",
      "...                                                 ...  \n",
      "2604  https://www.newegg.com/GPUs-Video-Graphics-Car...  \n",
      "2611  https://www.newegg.com/GPUs-Video-Graphics-Car...  \n",
      "2678  https://www.newegg.com/GPUs-Video-Graphics-Car...  \n",
      "2759  https://www.newegg.com/GPUs-Video-Graphics-Car...  \n",
      "2764  https://www.newegg.com/GPUs-Video-Graphics-Car...  \n",
      "\n",
      "[960 rows x 10 columns]\n"
     ]
    }
   ],
   "source": [
    "# Find duplicate rows based on multiple columns\n",
    "duplicate_rows = data_df[data_df.duplicated(subset=['ID', 'Name','Brand','Price','Rating','Number of rating','Price','Shiping','Product Information','Image'], keep=False)]\n",
    "\n",
    "# Print the duplicate rows\n",
    "print(duplicate_rows)\n",
    "\n",
    "#there are 960 rows duplicated"
   ]
  },
  {
   "cell_type": "code",
   "execution_count": 31,
   "id": "5cb3c79b",
   "metadata": {},
   "outputs": [
    {
     "name": "stdout",
     "output_type": "stream",
     "text": [
      "                 ID                                               Name  \\\n",
      "7    9SIAZUEFY85385  Yeston Radeon RX 6800 XT 16GB D6 GDDR6 256bit ...   \n",
      "535  9SIAZUEFY85385  Yeston Radeon RX 6800 XT 16GB D6 GDDR6 256bit ...   \n",
      "\n",
      "      Brand        Rating  Number of rating  Price        Shiping  \\\n",
      "7    yeston  Rating + 4.1              15.0  579.0  Free Shipping   \n",
      "535  yeston  Rating + 4.1              15.0  579.0  Free Shipping   \n",
      "\n",
      "                                                 Image  \\\n",
      "7    https://www.newegg.com/yeston-radeon-rx-6800-x...   \n",
      "535  https://www.newegg.com/yeston-radeon-rx-6800-x...   \n",
      "\n",
      "                                   Product Information  \\\n",
      "7    [{'Max Resolution': '7680 x 4320'}, {'DisplayP...   \n",
      "535  [{'Max Resolution': '7680 x 4320'}, {'DisplayP...   \n",
      "\n",
      "                                                   Url  \n",
      "7    https://www.newegg.com/GPUs-Video-Graphics-Car...  \n",
      "535  https://www.newegg.com/GPUs-Video-Graphics-Car...  \n"
     ]
    }
   ],
   "source": [
    "#check the duplicated ID\n",
    "print(data_df[data_df['ID']=='9SIAZUEFY85385'])"
   ]
  },
  {
   "cell_type": "markdown",
   "id": "899d3206",
   "metadata": {},
   "source": [
    "#### Metadata information: \n",
    "\n",
    "The new_egg product csv file store the scraped data SKUs of video graphic card from the website https://www.newegg.com/GPUs-Video-Graphics-Cards/SubCategory/ID-48, run through 100 pages and get 3600 products information\n",
    "\n",
    "The product information includes data of ID, Name, Brand, Rating and Number of people who rate, Price, Shipping price, the image, and detailed product information.\n",
    "\n",
    "However, here are many empty rows in Brand, Number of rating and Rating\n",
    "-- For emtpy row in Brand, can replace by the first letter from Name\n",
    "-- For emtpry rows in Number of rating and rating, there are acutally no information\n",
    "-- The shipping type is under the text, can transform to number to know the exact price\n",
    "\n",
    "For duplicates, already check that there are 960 rows which are duplicated due to the last columns of products in each page is repeated in another page => drop the duplicated columns"
   ]
  },
  {
   "cell_type": "markdown",
   "id": "203a7b73",
   "metadata": {},
   "source": [
    "## Transform and clean data "
   ]
  },
  {
   "cell_type": "markdown",
   "id": "0bb685b8",
   "metadata": {},
   "source": [
    "#### Transform shipping from text to number\n",
    "Adding the new column as Total_Price"
   ]
  },
  {
   "cell_type": "code",
   "execution_count": 32,
   "id": "dfe30501",
   "metadata": {
    "scrolled": false
   },
   "outputs": [
    {
     "name": "stdout",
     "output_type": "stream",
     "text": [
      "['Free Shipping' '$9.99 Shipping' '$49.99 Shipping' '$5.99 Shipping'\n",
      " '$6.99 Shipping' '$4.99 Shipping' '$7.99 Shipping' '$46.00 Shipping'\n",
      " '$40.00 Shipping' '$8.99 Shipping' '$20.00 Shipping' 'Special Shipping'\n",
      " '$8.60 Shipping' '$14.10 Shipping' '$8.68 Shipping' '$16.99 Shipping'\n",
      " '$64.33 Shipping' '$30.00 Shipping' '$10.00 Shipping' '$21.19 Shipping'\n",
      " '$24.76 Shipping' '$53.00 Shipping' '$10.99 Shipping' '$46.78 Shipping'\n",
      " '$8.34 Shipping' '$15.00 Shipping' '$52.83 Shipping' '$16.60 Shipping'\n",
      " '$36.00 Shipping' '$58.00 Shipping' '$96.00 Shipping' '$22.38 Shipping'\n",
      " '$8.37 Shipping' '$5.00 Shipping' '$19.00 Shipping' '$45.00 Shipping'\n",
      " '$13.10 Shipping' '$54.00 Shipping' '$21.00 Shipping' '$39.99 Shipping'\n",
      " '$37.99 Shipping' '$11.00 Shipping' '$19.99 Shipping' '$40.71 Shipping'\n",
      " '$25.99 Shipping' '$67.99 Shipping' '$31.99 Shipping' '$55.99 Shipping'\n",
      " '$29.99 Shipping' '$52.00 Shipping' '$64.00 Shipping' nan\n",
      " '$65.00 Shipping' '$31.00 Shipping' '$32.00 Shipping' '$33.00 Shipping'\n",
      " '$19.90 Shipping']\n"
     ]
    }
   ],
   "source": [
    "shipping_unique_values = data_df['Shiping'].unique()\n",
    "print(shipping_unique_values)"
   ]
  },
  {
   "cell_type": "code",
   "execution_count": 35,
   "id": "47980897",
   "metadata": {},
   "outputs": [
    {
     "name": "stdout",
     "output_type": "stream",
     "text": [
      "0\n",
      "0\n",
      "65.0\n"
     ]
    }
   ],
   "source": [
    "#Thêm một cột total price dựa trên giá shipping \n",
    "def ship_price(ship_type):\n",
    "    try:\n",
    "        fee = 0\n",
    "        ship_type = ship_type.split()[0]\n",
    "        if ship_type in ('Free', 'Special'):\n",
    "            fee = 0        \n",
    "        else:\n",
    "            fee = float(ship_type[1:])\n",
    "        return fee\n",
    "    except AttributeError:\n",
    "        pass\n",
    "\n",
    "print(ship_price('Free shiping'))\n",
    "print(ship_price('Special shiping'))\n",
    "print(ship_price('$65.00 Shipping'))"
   ]
  },
  {
   "cell_type": "code",
   "execution_count": 54,
   "id": "7ff96889",
   "metadata": {},
   "outputs": [
    {
     "name": "stdout",
     "output_type": "stream",
     "text": [
      "        Price        Shiping  Total_Price\n",
      "0      859.99  Free Shipping       859.99\n",
      "1     1183.87  Free Shipping      1183.87\n",
      "2      209.00  Free Shipping       209.00\n",
      "3     1149.99  Free Shipping      1149.99\n",
      "4     2159.99  Free Shipping      2159.99\n",
      "...       ...            ...          ...\n",
      "3598    89.99  Free Shipping        89.99\n",
      "3599    43.00  Free Shipping        43.00\n",
      "3600    78.00  Free Shipping        78.00\n",
      "3601   204.28  Free Shipping       204.28\n",
      "3602    61.00  Free Shipping        61.00\n",
      "\n",
      "[3603 rows x 3 columns]\n"
     ]
    }
   ],
   "source": [
    "#Thêm một cột total price dựa trên giá shipping \n",
    "data_df['Total_Price'] = data_df['Price'] + data_df['Shiping'].apply(ship_price)\n",
    "print(data_df[['Price','Shiping','Total_Price']])"
   ]
  },
  {
   "cell_type": "markdown",
   "id": "2b5688a6",
   "metadata": {},
   "source": [
    "#### Brand column, replace the empty with the brand from Name column"
   ]
  },
  {
   "cell_type": "code",
   "execution_count": 37,
   "id": "b0fd57d9",
   "metadata": {},
   "outputs": [],
   "source": [
    "#create the new column as new_brand\n",
    "#if brand name is empty in data_df , take it from the colum Title\n",
    "data_df['new_brand'] = data_df['Brand'] \n",
    "\n",
    "#find the indices where brand is empty\n",
    "# df['brand'].isnull() is to filter the dataframe df to select rows ( return the boolean mask)\n",
    "empty_indices = data_df[data_df['Brand'].isnull()].index\n",
    "\n",
    "#iterate over the empty indices and update the new_brand\n",
    "for index in empty_indices:\n",
    "    data_df.loc[index,'new_brand'] = data_df.loc[index,'Name'].split(' ')[0]"
   ]
  },
  {
   "cell_type": "code",
   "execution_count": 38,
   "id": "9df2a661",
   "metadata": {},
   "outputs": [
    {
     "name": "stdout",
     "output_type": "stream",
     "text": [
      "Empty DataFrame\n",
      "Columns: [ID, Name, Brand, Rating, Number of rating, Price, Shiping, Image, Product Information, Url, Total_Price, new_brand]\n",
      "Index: []\n"
     ]
    }
   ],
   "source": [
    "#check empty rows in brand\n",
    "empty_rows = data_df[data_df['new_brand'].isnull()]\n",
    "print(empty_rows)"
   ]
  },
  {
   "cell_type": "code",
   "execution_count": 39,
   "id": "a8d64507",
   "metadata": {
    "collapsed": true
   },
   "outputs": [
    {
     "name": "stdout",
     "output_type": "stream",
     "text": [
      "                  ID                                               Name Brand  \\\n",
      "156       14-993-001  SPARKLE Intel Arc A750 TITAN OC Edition, 8GB G...   NaN   \n",
      "158       14-993-003  SPARKLE Intel Arc A380 ELF, 6GB GDDR6, Single ...   NaN   \n",
      "166       14-993-002  SPARKLE Intel Arc A750 ORC OC Edition, 8GB GDD...   NaN   \n",
      "378   9SIB1PGG1Y2678  EVGA GeForce RTX 3090 XC3 ULTRA GAMING Video C...   NaN   \n",
      "591   9SIARXHF4P3205  MQX GeForce GT 730 4GB DDR3 PCI Express 2.0 X1...   NaN   \n",
      "...              ...                                                ...   ...   \n",
      "3578  9SIAG20JZW9123  Refurbished Genuine ATI Radeon HD 3450 256MB 6...   NaN   \n",
      "3590  9SIAG20JYS7718  Refurbished Genuine ATI Radeon X1300 102A62903...   NaN   \n",
      "3595  9SIAG20JZ60888  Refurbished For Dell AMD-Radeon HD 8490 1GB DD...   NaN   \n",
      "3598  9SIAG20JYS7517  Refurbished ATI FirePro 3D Graphics V5800 1GB ...   NaN   \n",
      "3600  9SIAG20JYS7525  Refurbished ATI FirePro V5800 1GB GDDR5 PCI-E ...   NaN   \n",
      "\n",
      "     Rating  Number of rating    Price        Shiping  \\\n",
      "156     NaN               NaN   259.99  Free Shipping   \n",
      "158     NaN               NaN   139.99  Free Shipping   \n",
      "166     NaN               NaN   239.99  Free Shipping   \n",
      "378     NaN               NaN  1699.00  Free Shipping   \n",
      "591     NaN               NaN    69.99  Free Shipping   \n",
      "...     ...               ...      ...            ...   \n",
      "3578    NaN               NaN    58.00  Free Shipping   \n",
      "3590    NaN               NaN    37.60  Free Shipping   \n",
      "3595    NaN               NaN    52.90  Free Shipping   \n",
      "3598    NaN               NaN    89.99  Free Shipping   \n",
      "3600    NaN               NaN    78.00  Free Shipping   \n",
      "\n",
      "                                                  Image  \\\n",
      "156   https://www.newegg.com/sparkle-arc-a750-sa750t...   \n",
      "158   https://www.newegg.com/sparkle-arc-a380-sa380e...   \n",
      "166   https://www.newegg.com/sparkle-arc-a750-sa750c...   \n",
      "378             https://www.newegg.com/p/1DW-00EW-00009   \n",
      "591             https://www.newegg.com/p/1FT-00AS-00009   \n",
      "...                                                 ...   \n",
      "3578  https://www.newegg.com/ati-radeon-hd-3450/p/27...   \n",
      "3590  https://www.newegg.com/dell-ati-radeon-x600-se...   \n",
      "3595            https://www.newegg.com/p/27N-007G-00015   \n",
      "3598            https://www.newegg.com/p/1VK-00KK-00002   \n",
      "3600            https://www.newegg.com/p/27N-0001-00012   \n",
      "\n",
      "                                    Product Information  \\\n",
      "156   [{'Max Resolution': '7680 x 4320'}, {'DisplayP...   \n",
      "158   [{'Core Clock': '2000 MHz'}, {'Max Resolution'...   \n",
      "166   [{'Max Resolution': '7680 x 4320'}, {'DisplayP...   \n",
      "378   [{'Model #': '6556'}, {'Item #': '9SIB1PGG1Y26...   \n",
      "591   [{'Chipset Manufacturer': 'NVIDIA'}, {'GPU Ser...   \n",
      "...                                                 ...   \n",
      "3578  [{'Model #': 'Y104D_2'}, {'Return Policy': 'Vi...   \n",
      "3590  [{'Chipset Manufacturer': 'AMD'}, {'Model #': ...   \n",
      "3595  [{'Model #': 'BEH0A974ZC'}, {'Return Policy': ...   \n",
      "3598  [{'Model #': '6RN0Y'}, {'Return Policy': 'View...   \n",
      "3600  [{'Model #': '608888-001'}, {'Return Policy': ...   \n",
      "\n",
      "                                                    Url  Total_Price  \\\n",
      "156   https://www.newegg.com/GPUs-Video-Graphics-Car...       259.99   \n",
      "158   https://www.newegg.com/GPUs-Video-Graphics-Car...       139.99   \n",
      "166   https://www.newegg.com/GPUs-Video-Graphics-Car...       239.99   \n",
      "378   https://www.newegg.com/GPUs-Video-Graphics-Car...      1699.00   \n",
      "591   https://www.newegg.com/GPUs-Video-Graphics-Car...        69.99   \n",
      "...                                                 ...          ...   \n",
      "3578  https://www.newegg.com/GPUs-Video-Graphics-Car...        58.00   \n",
      "3590  https://www.newegg.com/GPUs-Video-Graphics-Car...        37.60   \n",
      "3595  https://www.newegg.com/GPUs-Video-Graphics-Car...        52.90   \n",
      "3598  https://www.newegg.com/GPUs-Video-Graphics-Car...        89.99   \n",
      "3600  https://www.newegg.com/GPUs-Video-Graphics-Car...        78.00   \n",
      "\n",
      "        new_brand  \n",
      "156       SPARKLE  \n",
      "158       SPARKLE  \n",
      "166       SPARKLE  \n",
      "378          EVGA  \n",
      "591           MQX  \n",
      "...           ...  \n",
      "3578  Refurbished  \n",
      "3590  Refurbished  \n",
      "3595  Refurbished  \n",
      "3598  Refurbished  \n",
      "3600  Refurbished  \n",
      "\n",
      "[118 rows x 12 columns]\n"
     ]
    }
   ],
   "source": [
    "#check corresponding brand with newbrand to see if it replaced yet\n",
    "empty_rows = data_df[data_df['Brand'].isnull()]\n",
    "print(empty_rows)"
   ]
  },
  {
   "cell_type": "markdown",
   "id": "e7b24c0e",
   "metadata": {},
   "source": [
    "#### Transform Rating columns to a new column with only rating number"
   ]
  },
  {
   "cell_type": "code",
   "execution_count": 40,
   "id": "f602c964",
   "metadata": {
    "collapsed": true
   },
   "outputs": [
    {
     "name": "stdout",
     "output_type": "stream",
     "text": [
      "0    4.9\n",
      "1    4.3\n",
      "2    5.0\n",
      "3    4.0\n",
      "4    4.9\n",
      "5    5.0\n",
      "6    4.6\n",
      "7    4.1\n",
      "8    5.0\n",
      "9    4.8\n",
      "Name: new_rating, dtype: float64\n",
      "There are 1604 empty cells in the new_rating column\n"
     ]
    },
    {
     "data": {
      "text/html": [
       "<div>\n",
       "<style scoped>\n",
       "    .dataframe tbody tr th:only-of-type {\n",
       "        vertical-align: middle;\n",
       "    }\n",
       "\n",
       "    .dataframe tbody tr th {\n",
       "        vertical-align: top;\n",
       "    }\n",
       "\n",
       "    .dataframe thead th {\n",
       "        text-align: right;\n",
       "    }\n",
       "</style>\n",
       "<table border=\"1\" class=\"dataframe\">\n",
       "  <thead>\n",
       "    <tr style=\"text-align: right;\">\n",
       "      <th></th>\n",
       "      <th>ID</th>\n",
       "      <th>Name</th>\n",
       "      <th>Brand</th>\n",
       "      <th>Rating</th>\n",
       "      <th>Number of rating</th>\n",
       "      <th>Price</th>\n",
       "      <th>Shiping</th>\n",
       "      <th>Image</th>\n",
       "      <th>Product Information</th>\n",
       "      <th>Url</th>\n",
       "      <th>Total_Price</th>\n",
       "      <th>new_brand</th>\n",
       "      <th>new_rating</th>\n",
       "    </tr>\n",
       "  </thead>\n",
       "  <tbody>\n",
       "    <tr>\n",
       "      <th>12</th>\n",
       "      <td>14-137-801</td>\n",
       "      <td>MSI Mech Radeon RX 6750 XT 12GB GDDR6 PCI Expr...</td>\n",
       "      <td>MSI</td>\n",
       "      <td>NaN</td>\n",
       "      <td>NaN</td>\n",
       "      <td>369.99</td>\n",
       "      <td>Free Shipping</td>\n",
       "      <td>https://www.newegg.com/msi-radeon-rx-6750-xt-r...</td>\n",
       "      <td>[{'Max Resolution': '7680 x 4320'}, {'DisplayP...</td>\n",
       "      <td>https://www.newegg.com/GPUs-Video-Graphics-Car...</td>\n",
       "      <td>369.99</td>\n",
       "      <td>MSI</td>\n",
       "      <td>NaN</td>\n",
       "    </tr>\n",
       "    <tr>\n",
       "      <th>34</th>\n",
       "      <td>14-137-768</td>\n",
       "      <td>MSI Ventus GeForce RTX 4080 16GB GDDR6X PCI Ex...</td>\n",
       "      <td>MSI</td>\n",
       "      <td>NaN</td>\n",
       "      <td>NaN</td>\n",
       "      <td>1189.99</td>\n",
       "      <td>Free Shipping</td>\n",
       "      <td>https://www.newegg.com/msi-geforce-rtx-4080-rt...</td>\n",
       "      <td>[{'Max Resolution': '7680 x 4320'}, {'DisplayP...</td>\n",
       "      <td>https://www.newegg.com/GPUs-Video-Graphics-Car...</td>\n",
       "      <td>1189.99</td>\n",
       "      <td>MSI</td>\n",
       "      <td>NaN</td>\n",
       "    </tr>\n",
       "    <tr>\n",
       "      <th>35</th>\n",
       "      <td>14-932-630</td>\n",
       "      <td>GIGABYTE GeForce RTX 4060 WINDFORCE OC 8G Grap...</td>\n",
       "      <td>GIGABYTE</td>\n",
       "      <td>NaN</td>\n",
       "      <td>NaN</td>\n",
       "      <td>299.99</td>\n",
       "      <td>Free Shipping</td>\n",
       "      <td>https://www.newegg.com/gigabyte-geforce-rtx-40...</td>\n",
       "      <td>[{'Max Resolution': '7680 x 4320'}, {'DisplayP...</td>\n",
       "      <td>https://www.newegg.com/GPUs-Video-Graphics-Car...</td>\n",
       "      <td>299.99</td>\n",
       "      <td>GIGABYTE</td>\n",
       "      <td>NaN</td>\n",
       "    </tr>\n",
       "    <tr>\n",
       "      <th>68</th>\n",
       "      <td>14-500-559</td>\n",
       "      <td>ZOTAC GAMING GeForce RTX 4060 8GB OC Spider-Ma...</td>\n",
       "      <td>ZOTAC</td>\n",
       "      <td>NaN</td>\n",
       "      <td>NaN</td>\n",
       "      <td>299.99</td>\n",
       "      <td>Free Shipping</td>\n",
       "      <td>https://www.newegg.com/asus-geforce-rtx-4060-d...</td>\n",
       "      <td>[{'Max Resolution': '7680 x 4320'}, {'DisplayP...</td>\n",
       "      <td>https://www.newegg.com/GPUs-Video-Graphics-Car...</td>\n",
       "      <td>299.99</td>\n",
       "      <td>ZOTAC</td>\n",
       "      <td>NaN</td>\n",
       "    </tr>\n",
       "    <tr>\n",
       "      <th>76</th>\n",
       "      <td>14-932-627</td>\n",
       "      <td>GIGABYTE GeForce RTX 4060 AERO OC 8G Graphics ...</td>\n",
       "      <td>GIGABYTE</td>\n",
       "      <td>NaN</td>\n",
       "      <td>NaN</td>\n",
       "      <td>329.99</td>\n",
       "      <td>Free Shipping</td>\n",
       "      <td>https://www.newegg.com/gigabyte-geforce-rtx-40...</td>\n",
       "      <td>[{'Max Resolution': '7680 x 4320'}, {'DisplayP...</td>\n",
       "      <td>https://www.newegg.com/GPUs-Video-Graphics-Car...</td>\n",
       "      <td>329.99</td>\n",
       "      <td>GIGABYTE</td>\n",
       "      <td>NaN</td>\n",
       "    </tr>\n",
       "    <tr>\n",
       "      <th>...</th>\n",
       "      <td>...</td>\n",
       "      <td>...</td>\n",
       "      <td>...</td>\n",
       "      <td>...</td>\n",
       "      <td>...</td>\n",
       "      <td>...</td>\n",
       "      <td>...</td>\n",
       "      <td>...</td>\n",
       "      <td>...</td>\n",
       "      <td>...</td>\n",
       "      <td>...</td>\n",
       "      <td>...</td>\n",
       "      <td>...</td>\n",
       "    </tr>\n",
       "    <tr>\n",
       "      <th>3598</th>\n",
       "      <td>9SIAG20JYS7517</td>\n",
       "      <td>Refurbished ATI FirePro 3D Graphics V5800 1GB ...</td>\n",
       "      <td>NaN</td>\n",
       "      <td>NaN</td>\n",
       "      <td>NaN</td>\n",
       "      <td>89.99</td>\n",
       "      <td>Free Shipping</td>\n",
       "      <td>https://www.newegg.com/p/1VK-00KK-00002</td>\n",
       "      <td>[{'Model #': '6RN0Y'}, {'Return Policy': 'View...</td>\n",
       "      <td>https://www.newegg.com/GPUs-Video-Graphics-Car...</td>\n",
       "      <td>89.99</td>\n",
       "      <td>Refurbished</td>\n",
       "      <td>NaN</td>\n",
       "    </tr>\n",
       "    <tr>\n",
       "      <th>3599</th>\n",
       "      <td>9SIAG20JYS7916</td>\n",
       "      <td>Refurbished Dell AMD Radeon HD 6350 512MB DDR3...</td>\n",
       "      <td>DELL</td>\n",
       "      <td>NaN</td>\n",
       "      <td>NaN</td>\n",
       "      <td>43.00</td>\n",
       "      <td>Free Shipping</td>\n",
       "      <td>https://www.newegg.com/dell-236x5/p/27N-001D-0...</td>\n",
       "      <td>[{'Model #': '236X5'}, {'Return Policy': 'View...</td>\n",
       "      <td>https://www.newegg.com/GPUs-Video-Graphics-Car...</td>\n",
       "      <td>43.00</td>\n",
       "      <td>DELL</td>\n",
       "      <td>NaN</td>\n",
       "    </tr>\n",
       "    <tr>\n",
       "      <th>3600</th>\n",
       "      <td>9SIAG20JYS7525</td>\n",
       "      <td>Refurbished ATI FirePro V5800 1GB GDDR5 PCI-E ...</td>\n",
       "      <td>NaN</td>\n",
       "      <td>NaN</td>\n",
       "      <td>NaN</td>\n",
       "      <td>78.00</td>\n",
       "      <td>Free Shipping</td>\n",
       "      <td>https://www.newegg.com/p/27N-0001-00012</td>\n",
       "      <td>[{'Model #': '608888-001'}, {'Return Policy': ...</td>\n",
       "      <td>https://www.newegg.com/GPUs-Video-Graphics-Car...</td>\n",
       "      <td>78.00</td>\n",
       "      <td>Refurbished</td>\n",
       "      <td>NaN</td>\n",
       "    </tr>\n",
       "    <tr>\n",
       "      <th>3601</th>\n",
       "      <td>9SIA639JYM8965</td>\n",
       "      <td>Refurbished MSI GeForce GTX 1070 8GB GDDR5 PCI...</td>\n",
       "      <td>MSI</td>\n",
       "      <td>NaN</td>\n",
       "      <td>NaN</td>\n",
       "      <td>204.28</td>\n",
       "      <td>Free Shipping</td>\n",
       "      <td>https://www.newegg.com/msi-geforce-gtx-1070-gt...</td>\n",
       "      <td>[{'Core Clock': '1531 MHz'}, {'Max Resolution'...</td>\n",
       "      <td>https://www.newegg.com/GPUs-Video-Graphics-Car...</td>\n",
       "      <td>204.28</td>\n",
       "      <td>MSI</td>\n",
       "      <td>NaN</td>\n",
       "    </tr>\n",
       "    <tr>\n",
       "      <th>3602</th>\n",
       "      <td>9SIAG20JGU2053</td>\n",
       "      <td>Refurbished DELL 0R784K Quadro FX 580 512MB 12...</td>\n",
       "      <td>DELL</td>\n",
       "      <td>NaN</td>\n",
       "      <td>NaN</td>\n",
       "      <td>61.00</td>\n",
       "      <td>Free Shipping</td>\n",
       "      <td>https://www.newegg.com/dell-quadro-fx-580-0r78...</td>\n",
       "      <td>[{'Max Resolution': '2560 x 1600'}, {'DisplayP...</td>\n",
       "      <td>https://www.newegg.com/GPUs-Video-Graphics-Car...</td>\n",
       "      <td>61.00</td>\n",
       "      <td>DELL</td>\n",
       "      <td>NaN</td>\n",
       "    </tr>\n",
       "  </tbody>\n",
       "</table>\n",
       "<p>1604 rows × 13 columns</p>\n",
       "</div>"
      ],
      "text/plain": [
       "                  ID                                               Name  \\\n",
       "12        14-137-801  MSI Mech Radeon RX 6750 XT 12GB GDDR6 PCI Expr...   \n",
       "34        14-137-768  MSI Ventus GeForce RTX 4080 16GB GDDR6X PCI Ex...   \n",
       "35        14-932-630  GIGABYTE GeForce RTX 4060 WINDFORCE OC 8G Grap...   \n",
       "68        14-500-559  ZOTAC GAMING GeForce RTX 4060 8GB OC Spider-Ma...   \n",
       "76        14-932-627  GIGABYTE GeForce RTX 4060 AERO OC 8G Graphics ...   \n",
       "...              ...                                                ...   \n",
       "3598  9SIAG20JYS7517  Refurbished ATI FirePro 3D Graphics V5800 1GB ...   \n",
       "3599  9SIAG20JYS7916  Refurbished Dell AMD Radeon HD 6350 512MB DDR3...   \n",
       "3600  9SIAG20JYS7525  Refurbished ATI FirePro V5800 1GB GDDR5 PCI-E ...   \n",
       "3601  9SIA639JYM8965  Refurbished MSI GeForce GTX 1070 8GB GDDR5 PCI...   \n",
       "3602  9SIAG20JGU2053  Refurbished DELL 0R784K Quadro FX 580 512MB 12...   \n",
       "\n",
       "         Brand Rating  Number of rating    Price        Shiping  \\\n",
       "12         MSI    NaN               NaN   369.99  Free Shipping   \n",
       "34         MSI    NaN               NaN  1189.99  Free Shipping   \n",
       "35    GIGABYTE    NaN               NaN   299.99  Free Shipping   \n",
       "68       ZOTAC    NaN               NaN   299.99  Free Shipping   \n",
       "76    GIGABYTE    NaN               NaN   329.99  Free Shipping   \n",
       "...        ...    ...               ...      ...            ...   \n",
       "3598       NaN    NaN               NaN    89.99  Free Shipping   \n",
       "3599      DELL    NaN               NaN    43.00  Free Shipping   \n",
       "3600       NaN    NaN               NaN    78.00  Free Shipping   \n",
       "3601       MSI    NaN               NaN   204.28  Free Shipping   \n",
       "3602      DELL    NaN               NaN    61.00  Free Shipping   \n",
       "\n",
       "                                                  Image  \\\n",
       "12    https://www.newegg.com/msi-radeon-rx-6750-xt-r...   \n",
       "34    https://www.newegg.com/msi-geforce-rtx-4080-rt...   \n",
       "35    https://www.newegg.com/gigabyte-geforce-rtx-40...   \n",
       "68    https://www.newegg.com/asus-geforce-rtx-4060-d...   \n",
       "76    https://www.newegg.com/gigabyte-geforce-rtx-40...   \n",
       "...                                                 ...   \n",
       "3598            https://www.newegg.com/p/1VK-00KK-00002   \n",
       "3599  https://www.newegg.com/dell-236x5/p/27N-001D-0...   \n",
       "3600            https://www.newegg.com/p/27N-0001-00012   \n",
       "3601  https://www.newegg.com/msi-geforce-gtx-1070-gt...   \n",
       "3602  https://www.newegg.com/dell-quadro-fx-580-0r78...   \n",
       "\n",
       "                                    Product Information  \\\n",
       "12    [{'Max Resolution': '7680 x 4320'}, {'DisplayP...   \n",
       "34    [{'Max Resolution': '7680 x 4320'}, {'DisplayP...   \n",
       "35    [{'Max Resolution': '7680 x 4320'}, {'DisplayP...   \n",
       "68    [{'Max Resolution': '7680 x 4320'}, {'DisplayP...   \n",
       "76    [{'Max Resolution': '7680 x 4320'}, {'DisplayP...   \n",
       "...                                                 ...   \n",
       "3598  [{'Model #': '6RN0Y'}, {'Return Policy': 'View...   \n",
       "3599  [{'Model #': '236X5'}, {'Return Policy': 'View...   \n",
       "3600  [{'Model #': '608888-001'}, {'Return Policy': ...   \n",
       "3601  [{'Core Clock': '1531 MHz'}, {'Max Resolution'...   \n",
       "3602  [{'Max Resolution': '2560 x 1600'}, {'DisplayP...   \n",
       "\n",
       "                                                    Url  Total_Price  \\\n",
       "12    https://www.newegg.com/GPUs-Video-Graphics-Car...       369.99   \n",
       "34    https://www.newegg.com/GPUs-Video-Graphics-Car...      1189.99   \n",
       "35    https://www.newegg.com/GPUs-Video-Graphics-Car...       299.99   \n",
       "68    https://www.newegg.com/GPUs-Video-Graphics-Car...       299.99   \n",
       "76    https://www.newegg.com/GPUs-Video-Graphics-Car...       329.99   \n",
       "...                                                 ...          ...   \n",
       "3598  https://www.newegg.com/GPUs-Video-Graphics-Car...        89.99   \n",
       "3599  https://www.newegg.com/GPUs-Video-Graphics-Car...        43.00   \n",
       "3600  https://www.newegg.com/GPUs-Video-Graphics-Car...        78.00   \n",
       "3601  https://www.newegg.com/GPUs-Video-Graphics-Car...       204.28   \n",
       "3602  https://www.newegg.com/GPUs-Video-Graphics-Car...        61.00   \n",
       "\n",
       "        new_brand  new_rating  \n",
       "12            MSI         NaN  \n",
       "34            MSI         NaN  \n",
       "35       GIGABYTE         NaN  \n",
       "68          ZOTAC         NaN  \n",
       "76       GIGABYTE         NaN  \n",
       "...           ...         ...  \n",
       "3598  Refurbished         NaN  \n",
       "3599         DELL         NaN  \n",
       "3600  Refurbished         NaN  \n",
       "3601          MSI         NaN  \n",
       "3602         DELL         NaN  \n",
       "\n",
       "[1604 rows x 13 columns]"
      ]
     },
     "execution_count": 40,
     "metadata": {},
     "output_type": "execute_result"
    }
   ],
   "source": [
    "#Biểu diễn mối liên hệ giữa giá sản phẩm và rating của người dùng\n",
    "#rating columns need to be transformed\n",
    "data_df['new_rating'] = data_df['Rating'].str.split(' ').str[-1].astype(float)\n",
    "print(data_df['new_rating'].head(10))\n",
    "check_empty(data_df,'new_rating')"
   ]
  },
  {
   "cell_type": "markdown",
   "id": "87029f29",
   "metadata": {},
   "source": [
    "# Visualize data"
   ]
  },
  {
   "cell_type": "markdown",
   "id": "1b46558a",
   "metadata": {},
   "source": [
    "- Yêu cầu thống kê (visualize dữ liệu nếu có thể):\n",
    "    - Các hãng đang cung cấp Card đồ họa, số lượng sản phẩm của mỗi hãng.\n",
    "    #Top 5 brands are MSI, GIGABYTE and ASUS, EVGA and PNY Technologies, Inc.\n",
    "    \n",
    "    - Phân bố giá của các sản phẩm (Mức giá phổ biến là bao nhiêu)\n",
    "    #Top 3 price ranges are 267 - 319, 319 - 371 and 110-162 \n",
    "    \n",
    "    - Phân bố giá sản phẩm theo hãng\n",
    "    #Phân bố giá sản phẩm theo top 5 brands: các hãng hàng đầu đều có range sản phẩm từ giá thấp đến giá cao\n",
    "    \n",
    "    - Biểu diễn mối liên hệ giữa giá sản phẩm và rating của người dùng"
   ]
  },
  {
   "cell_type": "code",
   "execution_count": 41,
   "id": "b6557fc8",
   "metadata": {},
   "outputs": [
    {
     "name": "stdout",
     "output_type": "stream",
     "text": [
      "<class 'pandas.core.series.Series'>\n",
      "           Brand  Count\n",
      "0           ASUS    643\n",
      "1            MSI    636\n",
      "2       GIGABYTE    631\n",
      "3           EVGA    256\n",
      "4  Sapphire Tech    151\n"
     ]
    }
   ],
   "source": [
    "#Các hãng đang cung cấp Card đồ họa, số lượng sản phẩm của mỗi hãng\n",
    "brand_group = data_df.groupby('Brand')['ID'].size().sort_values(ascending=False)\n",
    "print(type(brand_group))\n",
    "\n",
    "#convert brand_group from series to DF\n",
    "brand_group_df = pd.DataFrame({'Brand':brand_group.index, 'Count':brand_group.values})\n",
    "\n",
    "sum_row = pd.DataFrame(brand_group_df['Count'].sum() , columns = ['Count'], index = ['Total'])\n",
    "sum_row['Brand'] =''\n",
    "brand_group_df = pd.concat([brand_group_df, sum_row])\n",
    "\n",
    "print(brand_group_df.head(5))\n",
    "\n",
    "#Top 5 brands are MSI, GIGABYTE and ASUS, EVGA and PNY Technologies, Inc."
   ]
  },
  {
   "cell_type": "code",
   "execution_count": 42,
   "id": "118a719b",
   "metadata": {},
   "outputs": [],
   "source": [
    "#phân bố giá của các sản phẩm (Mức giá phổ biến là bao nhiêu)\n",
    "price_id_df = data_df[['ID','Name','Brand','Price']]"
   ]
  },
  {
   "cell_type": "code",
   "execution_count": 43,
   "id": "12182062",
   "metadata": {
    "collapsed": true
   },
   "outputs": [
    {
     "name": "stdout",
     "output_type": "stream",
     "text": [
      "               ID                                               Name  \\\n",
      "0      14-932-580  GIGABYTE GeForce RTX 4070 Ti GAMING OC 12G Gra...   \n",
      "1      14-932-561  GIGABYTE Gaming GeForce RTX 4080 16GB GDDR6X P...   \n",
      "2  9SIB86XJMF6466  51RISC GeForce RTX 2060 6GB GDDR6 PCIE16 Graph...   \n",
      "3      14-932-562  GIGABYTE EAGLE OC GeForce RTX 4080 16GB GDDR6X...   \n",
      "4  9SIAFVFJV49639  ASUS ROG Strix GeForce RTX 4090 White OC Editi...   \n",
      "\n",
      "      Brand    Price  \n",
      "0  GIGABYTE   859.99  \n",
      "1  GIGABYTE  1183.87  \n",
      "2    51Risc   209.00  \n",
      "3  GIGABYTE  1149.99  \n",
      "4      ASUS  2159.99  \n"
     ]
    }
   ],
   "source": [
    "print(price_id_df.head())"
   ]
  },
  {
   "cell_type": "code",
   "execution_count": 44,
   "id": "b9632ea4",
   "metadata": {},
   "outputs": [
    {
     "data": {
      "image/png": "[encoded data removed]",
      "text/plain": [
       "<Figure size 640x480 with 1 Axes>"
      ]
     },
     "metadata": {},
     "output_type": "display_data"
    }
   ],
   "source": [
    "import matplotlib.pyplot as plt\n",
    "import numpy as np\n",
    "\n",
    "price_data = data_df['Price']\n",
    "\n",
    "# Create histogram\n",
    "n, bins, patches = plt.hist(price_data, bins=100, edgecolor='black')\n",
    "\n",
    "# Set the x-axis limit\n",
    "plt.xlim(0, 3000)\n",
    "\n",
    "# Set the x-axis tick positions and labels\n",
    "tick_positions = range(0, 3000, 100)\n",
    "plt.xticks(tick_positions)\n",
    "plt.xticks(rotation=60)\n",
    "\n",
    "# Add labels and title\n",
    "plt.xlabel('Price')\n",
    "plt.ylabel('Frequency')\n",
    "plt.title('Distribution of Product Prices')\n",
    "\n",
    "# Add range labels to top three bars\n",
    "top_n = 3\n",
    "top_indices = np.argsort(n)[-top_n:]  # Indices of top n bars\n",
    "for i in top_indices:\n",
    "    # Get the range of values for each bar\n",
    "    range_label = f'{bins[i]:.0f}-{bins[i + 1]:.0f}'\n",
    "    # Position the label above the bar\n",
    "    plt.text(patches[i].get_x() + patches[i].get_width() / 2, patches[i].get_height(), range_label,\n",
    "             ha='center', va='bottom')\n",
    "\n",
    "# Display the plot\n",
    "plt.show()\n",
    "\n",
    "#Top 3 price ranges are 267 - 319, 319 - 371 and 110-162 \n"
   ]
  },
  {
   "cell_type": "code",
   "execution_count": 45,
   "id": "fa873d7b",
   "metadata": {},
   "outputs": [
    {
     "name": "stdout",
     "output_type": "stream",
     "text": [
      "0          GIGABYTE\n",
      "1          GIGABYTE\n",
      "2            51Risc\n",
      "3          GIGABYTE\n",
      "4              ASUS\n",
      "           ...     \n",
      "3598    Refurbished\n",
      "3599           DELL\n",
      "3600    Refurbished\n",
      "3601            MSI\n",
      "3602           DELL\n",
      "Name: new_brand, Length: 3603, dtype: object\n",
      "0        859.99\n",
      "1       1183.87\n",
      "2        209.00\n",
      "3       1149.99\n",
      "4       2159.99\n",
      "         ...   \n",
      "3598      89.99\n",
      "3599      43.00\n",
      "3600      78.00\n",
      "3601     204.28\n",
      "3602      61.00\n",
      "Name: Price, Length: 3603, dtype: float64\n"
     ]
    },
    {
     "data": {
      "image/png": "[encoded data removed]",
      "text/plain": [
       "<Figure size 640x480 with 1 Axes>"
      ]
     },
     "metadata": {},
     "output_type": "display_data"
    }
   ],
   "source": [
    "#draw the scatter plot Phân bố giá sản phẩm theo hãng\n",
    "# Create scatter plot\n",
    "x = data_df['new_brand']\n",
    "y = data_df['Price']\n",
    "plt.scatter(x, y)\n",
    "plt.xticks(rotation=90,fontsize=5)\n",
    "\n",
    "print(x)\n",
    "print(y)"
   ]
  },
  {
   "cell_type": "code",
   "execution_count": 46,
   "id": "d0aa4593",
   "metadata": {},
   "outputs": [
    {
     "data": {
      "text/plain": [
       "(0.0, 3000.0)"
      ]
     },
     "execution_count": 46,
     "metadata": {},
     "output_type": "execute_result"
    },
    {
     "data": {
      "image/png": "[encoded data removed]",
      "text/plain": [
       "<Figure size 640x480 with 1 Axes>"
      ]
     },
     "metadata": {},
     "output_type": "display_data"
    }
   ],
   "source": [
    "#draw the scatter plot Phân bố giá sản phẩm theo hãng\n",
    "# Create scatter plot\n",
    "\n",
    "#filter data fro selected_brand \n",
    "#Top 5 brands are MSI, GIGABYTE and ASUS, EVGA and PNY Technologies, Inc.\n",
    "selected_brand = ['GIGABYTE','MSI','ASUS','EVGA','PNY Technologies, Inc.']\n",
    "filtered_data = data_df[data_df['new_brand'].isin(selected_brand)]\n",
    "\n",
    "#create x and y varaibles from filtered_data\n",
    "x = filtered_data['new_brand']\n",
    "y = filtered_data['Price']\n",
    "\n",
    "# Create scatter plot\n",
    "plt.scatter(x, y)\n",
    "plt.xticks(rotation=60)\n",
    "\n",
    "# Set the y-axis limit\n",
    "plt.ylim(0, 3000)\n",
    "\n",
    "#Phân bố giá sản phẩm theo top 5 brands: các hãng hàng đầu đều có range sản phẩm từ giá thấp đến giá cao"
   ]
  },
  {
   "cell_type": "code",
   "execution_count": 55,
   "id": "e776d1b5",
   "metadata": {},
   "outputs": [
    {
     "name": "stdout",
     "output_type": "stream",
     "text": [
      "0    Rating + 4.9\n",
      "1    Rating + 4.3\n",
      "Name: Rating, dtype: object\n"
     ]
    }
   ],
   "source": [
    "#Biểu diễn mối liên hệ giữa giá sản phẩm và rating của người dùng\n",
    "#rating columns need to be transformed\n",
    "rating = data_df['Rating']\n",
    "print(rating.head(2))"
   ]
  },
  {
   "cell_type": "code",
   "execution_count": 48,
   "id": "f70a4462",
   "metadata": {},
   "outputs": [
    {
     "data": {
      "text/plain": [
       "(0.0, 3000.0)"
      ]
     },
     "execution_count": 48,
     "metadata": {},
     "output_type": "execute_result"
    },
    {
     "data": {
      "image/png": "[encoded data removed]",
      "text/plain": [
       "<Figure size 640x480 with 1 Axes>"
      ]
     },
     "metadata": {},
     "output_type": "display_data"
    }
   ],
   "source": [
    "#scatter plot of price and new_rating, filtered all the NaNn number in column new_rating\n",
    "#draw the scatter plot Phân bố giá sản phẩm theo hãng\n",
    "\n",
    "# Create filtered dataframe, which filtered out the empty new_rating\n",
    "rating_price_filtered_df = data_df[data_df['new_rating'].notna()][['Price','new_rating']]\n",
    "\n",
    "#create scatter  plot\n",
    "rating_price_filtered_df = rating_price_filtered_df.dropna(axis=1, how='all')\n",
    "\n",
    "x = rating_price_filtered_df['new_rating']\n",
    "y = rating_price_filtered_df['Price']\n",
    "plt.scatter(x, y)\n",
    "plt.xticks(rotation=60)\n",
    "\n",
    "# Set the y-axis limit\n",
    "plt.ylim(0, 3000)"
   ]
  },
  {
   "cell_type": "code",
   "execution_count": 49,
   "id": "db49a5ec",
   "metadata": {},
   "outputs": [
    {
     "data": {
      "text/plain": [
       "5.0"
      ]
     },
     "execution_count": 49,
     "metadata": {},
     "output_type": "execute_result"
    }
   ],
   "source": [
    "data_df['new_rating'].min()\n",
    "data_df['new_rating'].max()"
   ]
  },
  {
   "cell_type": "code",
   "execution_count": 63,
   "id": "2aa28466",
   "metadata": {},
   "outputs": [
    {
     "data": {
      "image/png": "[encoded data removed]",
      "text/plain": [
       "<Figure size 640x480 with 1 Axes>"
      ]
     },
     "metadata": {},
     "output_type": "display_data"
    }
   ],
   "source": [
    "# Create filtered dataframe, which filtered out the empty new_rating\n",
    "rating_price_filtered_df = data_df[data_df['new_rating'].notna()][['Price','rating_range']]\n",
    "\n",
    "# Assuming you have a DataFrame called 'rating_price_filtered_df' with columns 'Price' and 'rating_range'\n",
    "import seaborn as sns\n",
    "import matplotlib.pyplot as plt\n",
    "\n",
    "# Assuming you have a DataFrame called 'rating_price_filtered_df' with columns 'Price' and 'rating_range'\n",
    "\n",
    "# Create box plot using Seaborn\n",
    "sns.boxplot(x=rating_price_filtered_df['rating_range'], y=rating_price_filtered_df['Price'])\n",
    "\n",
    "# Set labels and title\n",
    "plt.xlabel('Rating Range')\n",
    "plt.ylabel('Product Price')\n",
    "plt.title('Relationship between Price and Rating')\n",
    "\n",
    "#set the ylimit\n",
    "plt.ylim(0,3000)\n",
    "\n",
    "# Display the plot\n",
    "plt.show()\n"
   ]
  },
  {
   "cell_type": "code",
   "execution_count": null,
   "id": "c9cff8c9",
   "metadata": {},
   "outputs": [],
   "source": []
  }
 ],
 "metadata": {
  "kernelspec": {
   "display_name": "Python 3 (ipykernel)",
   "language": "python",
   "name": "python3"
  },
  "language_info": {
   "codemirror_mode": {
    "name": "ipython",
    "version": 3
   },
   "file_extension": ".py",
   "mimetype": "text/x-python",
   "name": "python",
   "nbconvert_exporter": "python",
   "pygments_lexer": "ipython3",
   "version": "3.10.9"
  }
 },
 "nbformat": 4,
 "nbformat_minor": 5
}
